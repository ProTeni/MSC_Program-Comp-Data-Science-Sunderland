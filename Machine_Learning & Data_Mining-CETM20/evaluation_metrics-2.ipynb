{
 "cells": [
  {
   "cell_type": "markdown",
   "metadata": {},
   "source": [
    "# Evaluation Metrics\n",
    "\n",
    "## Pre-requisites\n",
    "\n",
    "We will need the library **scikit-learn** for this example. Ensure this is installed by executing the code cell below or by using pip manually in the command prompt / terminal."
   ]
  },
  {
   "cell_type": "code",
   "execution_count": null,
   "metadata": {},
   "outputs": [],
   "source": [
    "%pip install scikit-learn"
   ]
  },
  {
   "cell_type": "markdown",
   "metadata": {},
   "source": [
    "\n",
    "## Introduction\n",
    "\n",
    "This week, we've looked at training our Perceptron model, and then how we can construct bigger networks by layering these perceptrons together. Today we will introduce some evaluative metrics for our networks when we wish to evaluate performance for a binary classification problem (falling under supervised machine learning).\n",
    "\n",
    "Before we begin, let us assume that you have created a model in Keras, and it is **trained**.\n",
    "\n",
    "We should have the following:\n",
    "* $X$ - Our testing dataset\n",
    "$$X = (x_{1}, x_{2}, \\dots, x_{n}) $$\n",
    "Where $x_{i}$ is a single record, containing data. E.g could be 11 features of wine (acidity, ph, sulphates, etc). This will *NOT* have the y label in it.\n",
    "\n",
    "* $y_{true}$ - Labels corresponding to our data.\n",
    "$$y_{true} = (y_{1}, y_{2}, \\dots, y_{n})$$\n",
    "\n",
    "* $model$ - A trained Keras model\n",
    "\n",
    "For each entry in $X$ we have a corresponding entry in $y_{true}$"
   ]
  },
  {
   "cell_type": "markdown",
   "metadata": {},
   "source": [
    "## Obtaining predictions\n",
    "\n",
    "In order to evaluate how well our model has done in the task, we must first obtain what the model thinks the correct y labels should be. We can do this using the `model.predict()` function. This provides input data to the model and will run a forward pass on the data to obtain the network's estimate. This is called *inference*. Once we have all the predicted y values, we can run our own metric calculations.\n",
    "\n",
    "E.g\n",
    "```python\n",
    "y_pred = model.predict( X )\n",
    "```\n",
    "\n",
    "Typically, we save the output of this as $y_{pred}$ to differentiate from our ground-truth data $y_{true}$.\n",
    "\n",
    "For binary classification, let's provide some example data for what $y_{true}$ and $y_{pred}$ may look like.\n",
    "\n",
    "$y_{true} = [1, 1, 1, 0, 0, 1, 0, 1]$\n",
    "\n",
    "$y_{pred} = [1, 1, 0, 0, 1, 0, 0, 1]$\n",
    "\n",
    "Looking at the two lists, we can see that mostly our network predicted correctly; however, some cases the network gets the answer wrong."
   ]
  },
  {
   "cell_type": "markdown",
   "metadata": {},
   "source": [
    "### TP, TN, FP, FN\n",
    "\n",
    "We can denote 4 basic metrics for classification evaluation. These are true-positive (TP), true-negative (TN), false-positive (FP), and false-negative (FN). We treat these as tallies, and count up for all elements of our predicted output.\n",
    "\n",
    "* TP - Where the ground-truth class is positive (1) and the predicted class is positive (1)\n",
    "* TN - Where the ground-truth class is negative (0) and the predicted class is negative (0)\n",
    "* FP - Where the ground-truth class is negative (0) and the predicted class is positive (1) - I.e Falsely predicting positive\n",
    "* FN - Where the ground-truth class is positive (1) and the predicted class is negative (0) - I.e Falsely predicting negative\n",
    "\n",
    "Let's go through our example, and calculate these:\n",
    "\n",
    "* TP: How many times is there a 1 for both ground-truth and predicted? **3 times**. (Indices 0, 1, and 7)\n",
    "* TN: How many times are both negative? **2 times**. (Indices 3 and 6)\n",
    "* FP: Predict positive, when it should be negative? **Once**. (Index 4)\n",
    "* FN: How many times falsely negative? **2 times** (Indices 2 and 5)\n",
    "\n",
    "Note: These tallies should all add up to equal the number of examples we have. 3 + 2 + 1 + 2 = 8. The length of $y_{pred}$ (and $y_{true}$) equals 8 too."
   ]
  },
  {
   "cell_type": "markdown",
   "metadata": {},
   "source": [
    "### Confusion Matrices\n",
    "\n",
    "Now we have our four base metrics, we can put these into a **confusion matrix**. This helps us visualise how many times our classes get 'confused'; that is where a 1 should be a 0, or a 0 should be 1. This uses a heatmap approach to help us identify at-a-glance where we may need to improve.\n",
    "\n",
    "For now, we will use some dummy data for our $y_{true}$ and $y_{pred}$. Later this week we will plug in some real model output.\n",
    "\n",
    "Documentation: \n",
    "\n",
    "https://scikit-learn.org/stable/modules/generated/sklearn.metrics.confusion_matrix.html\n",
    "\n",
    "https://scikit-learn.org/stable/modules/generated/sklearn.metrics.ConfusionMatrixDisplay.html#sklearn.metrics.ConfusionMatrixDisplay"
   ]
  },
  {
   "cell_type": "code",
   "execution_count": 1,
   "metadata": {},
   "outputs": [
    {
     "name": "stdout",
     "output_type": "stream",
     "text": [
      "[[2 1]\n",
      " [2 3]]\n"
     ]
    }
   ],
   "source": [
    "from sklearn.metrics import confusion_matrix # Import the confusion matrix from sklearn\n",
    "from sklearn.metrics import ConfusionMatrixDisplay # This is for the visual bit\n",
    "\n",
    "y_true = [1, 1, 1, 0, 0, 1, 0, 1]\n",
    "y_pred = [1, 1, 0, 0, 1, 0, 0, 1]\n",
    "\n",
    "print(confusion_matrix(y_true, y_pred))"
   ]
  },
  {
   "cell_type": "markdown",
   "metadata": {},
   "source": [
    "2D array returned, but not very useful unless we know which indices are which."
   ]
  },
  {
   "cell_type": "code",
   "execution_count": 2,
   "metadata": {},
   "outputs": [
    {
     "name": "stdout",
     "output_type": "stream",
     "text": [
      "TP: 3\n",
      "FP: 1\n",
      "TN: 2\n",
      "FN: 2\n"
     ]
    }
   ],
   "source": [
    "# We can even assign variables to the output! adding .ravel() to the conf matrix.\n",
    "tn, fp, fn, tp = confusion_matrix(y_true, y_pred).ravel()\n",
    "print(f\"TP: {tp}\")\n",
    "print(f\"FP: {fp}\")\n",
    "print(f\"TN: {tn}\")\n",
    "print(f\"FN: {fn}\")"
   ]
  },
  {
   "cell_type": "markdown",
   "metadata": {},
   "source": [
    "Visualising the matrix makes things significantly easier.\n",
    "\n",
    "Note: Each row is a class in the ground-truth data. Each column is a class in the predicted. Therefore, X-Axis is predicted, Y-axis is groundtruth."
   ]
  },
  {
   "cell_type": "code",
   "execution_count": 3,
   "metadata": {},
   "outputs": [
    {
     "data": {
      "text/plain": [
       "<sklearn.metrics._plot.confusion_matrix.ConfusionMatrixDisplay at 0x7f07f29c0f10>"
      ]
     },
     "execution_count": 3,
     "metadata": {},
     "output_type": "execute_result"
    },
    {
     "data": {
      "image/png": "[encoded data removed]",
      "text/plain": [
       "<Figure size 432x288 with 2 Axes>"
      ]
     },
     "metadata": {
      "needs_background": "light"
     },
     "output_type": "display_data"
    }
   ],
   "source": [
    "ConfusionMatrixDisplay.from_predictions(y_true, y_pred)"
   ]
  },
  {
   "cell_type": "markdown",
   "metadata": {},
   "source": [
    "Let's get some more data to make this more apparant. At the moment, our true-negative score is the same as our false-negative score, so this classifier wouldn't be too useful.\n",
    "**Ideally**, we want the upper left, and bottom right to be high numbers, and the opposing diagonal to be as close to 0 as possible. This means no confusion, and full true-positive, and true-negative tallies."
   ]
  },
  {
   "cell_type": "code",
   "execution_count": 4,
   "metadata": {},
   "outputs": [
    {
     "data": {
      "text/plain": [
       "<sklearn.metrics._plot.confusion_matrix.ConfusionMatrixDisplay at 0x7f07c42051c0>"
      ]
     },
     "execution_count": 4,
     "metadata": {},
     "output_type": "execute_result"
    },
    {
     "data": {
      "image/png": "[encoded data removed]",
      "text/plain": [
       "<Figure size 432x288 with 2 Axes>"
      ]
     },
     "metadata": {
      "needs_background": "light"
     },
     "output_type": "display_data"
    }
   ],
   "source": [
    "y_true = [1, 1, 1, 0, 0, 1, 0, 1, 0, 0, 1, 1, 0, 0, 0, 0, 0, 1, 0, 0, 1, 1, 1, 0, 0, 1, 1, 0, 1, 0, 1, 0, 0, 0, 1, 0, 0, 1, 1, 0, 1, 1, 0, 0, 0]\n",
    "y_pred = [1, 1, 0, 0, 1, 0, 0, 1, 0, 1, 1, 0, 0, 0, 1, 0, 0, 1, 0, 1, 1, 1, 1, 0, 0, 0, 1, 0, 1, 1, 1, 0, 0, 0, 1, 0, 0, 1, 1, 0, 1, 1, 0, 0, 0]\n",
    "\n",
    "ConfusionMatrixDisplay.from_predictions(y_true, y_pred)"
   ]
  },
  {
   "cell_type": "markdown",
   "metadata": {},
   "source": [
    "### Derived Metrics\n",
    "\n",
    "From these basic 4 tallies we can define some additional metrics which can be useful.\n",
    "\n",
    "* Accuracy - How many did we guess correctly, out of all possible entries?\n",
    "$$Accuracy = \\frac{TP\\ +\\ TN}{TP\\ +\\ TN\\ +\\ FP\\ +\\ FN}$$\n",
    "\n",
    "* Specificity ( True Negative Rate ) - Of all the negative cases, how many did we get right?\n",
    "$$ Spec = \\frac{TN}{TN + FP} = \\frac{TN}{All\\ groundtruth\\ negatives} $$\n",
    "\n",
    "* Sensitivity (Recall / True Positive Rate ) - Of all the positive cases, how many did we get right?\n",
    "$$ Sens = \\frac{TP}{TP + FN} = \\frac{TP}{All\\ groundtruth\\ positives} $$\n",
    "\n",
    "* Precision (Positive Predictive Value) - If we guess 1 for everything, our sensitivity will be 100%, but we're not very precise. This answers the question \"How many positive predictons were actually correct?\"\n",
    "$$ Precision = \\frac{TP}{TP\\ +\\ FP} = \\frac{TP}{All\\ predicted\\ positives} $$"
   ]
  },
  {
   "cell_type": "markdown",
   "metadata": {},
   "source": [
    "#### Balance. Which to choose? Introducing F1-Score\n",
    "\n",
    "Depending on the task, you may wish to focus on maximising a given evaluative metric. You may care more about catching all positive cases, even at the risk of over predicting.\n",
    "\n",
    "An example may be cancer diagnoses. It can be argued that it's better to provide a false cancer diagnosis (FP) than to miss somebody who may need medical intervention (FN). This would focus on high sensitivity at the cost of precision.\n",
    "\n",
    "In most real world cases, we want to balance out these considerations to obtain an overall picture of how well our classify performs. This can be achieved by something called the **F1-Score**.\n",
    "\n",
    "$$ F1-Score = \\frac{2}{\\frac{1}{precision} \\frac{1}{recall}}  = 2\\frac{precision * recall}{precision + recall}$$"
   ]
  },
  {
   "cell_type": "code",
   "execution_count": 5,
   "metadata": {},
   "outputs": [
    {
     "name": "stdout",
     "output_type": "stream",
     "text": [
      "y_true [1, 1, 1, 0, 0, 1, 0, 1, 0, 0, 1, 1, 0, 0, 0, 0, 0, 1, 0, 0, 1, 1, 1, 0, 0, 1, 1, 0, 1, 0, 1, 0, 0, 0, 1, 0, 0, 1, 1, 0, 1, 1, 0, 0, 0]\n",
      "y_pred [1, 1, 0, 0, 1, 0, 0, 1, 0, 1, 1, 0, 0, 0, 1, 0, 0, 1, 0, 1, 1, 1, 1, 0, 0, 0, 1, 0, 1, 1, 1, 0, 0, 0, 1, 0, 0, 1, 1, 0, 1, 1, 0, 0, 0]\n",
      "TP: 16\n",
      "FP: 5\n",
      "TN: 20\n",
      "FN: 4\n",
      "Accuracy: 0.8\n",
      "Specificity: 0.8\n",
      "Sensitivity: 0.8\n",
      "Precision: 0.7619047619047619\n",
      "F1-Score: 0.7804878048780488\n"
     ]
    }
   ],
   "source": [
    "# Calculate for the long examples.\n",
    "\n",
    "# Just seeing what we've got.\n",
    "print(\"y_true\", y_true)\n",
    "print(\"y_pred\", y_pred)\n",
    "\n",
    "tn, fp, fn, tp = confusion_matrix(y_true, y_pred).ravel()\n",
    "print(f\"TP: {tp}\")\n",
    "print(f\"FP: {fp}\")\n",
    "print(f\"TN: {tn}\")\n",
    "print(f\"FN: {fn}\")\n",
    "\n",
    "acc = (tp + tn) / (tp+fp+tn+fn)\n",
    "spec = tn / (tn+fp)\n",
    "sens = tp / (tp+fn)\n",
    "prec = tp / (tp+fp)\n",
    "\n",
    "f1 = 2 * ((prec * sens)/(prec + sens))\n",
    "\n",
    "print(f\"Accuracy: {acc}\")\n",
    "print(f\"Specificity: {spec}\")\n",
    "print(f\"Sensitivity: {sens}\")\n",
    "print(f\"Precision: {prec}\")\n",
    "print(f\"F1-Score: {f1}\")\n"
   ]
  },
  {
   "cell_type": "markdown",
   "metadata": {},
   "source": [
    "We can use `sklearn` utilities to calculate many of these for us, directly from $y_{true}$ and $y_{pred}$"
   ]
  },
  {
   "cell_type": "code",
   "execution_count": 6,
   "metadata": {},
   "outputs": [
    {
     "name": "stdout",
     "output_type": "stream",
     "text": [
      "Using SKLEARN.\n",
      "Accuracy: 0.8\n",
      "No utility for specificity alone\n",
      "Sensitivity: 0.8\n",
      "Precision: 0.7619047619047619\n",
      "F1-Score: 0.7804878048780488\n"
     ]
    }
   ],
   "source": [
    "from sklearn.metrics import f1_score, accuracy_score, precision_score, recall_score\n",
    "\n",
    "print(\"Using SKLEARN.\")\n",
    "\n",
    "print(f\"Accuracy: {accuracy_score(y_true, y_pred)}\")\n",
    "print(f\"No utility for specificity alone\")\n",
    "print(f\"Sensitivity: {recall_score(y_true, y_pred)}\")\n",
    "print(f\"Precision: {precision_score(y_true, y_pred)}\")\n",
    "print(f\"F1-Score: {f1_score(y_true, y_pred)}\")\n",
    "\n",
    "# See:\n",
    "# https://scikit-learn.org/stable/modules/generated/sklearn.metrics.accuracy_score.html#sklearn.metrics.accuracy_score\n",
    "# https://scikit-learn.org/stable/modules/generated/sklearn.metrics.recall_score.html#sklearn.metrics.recall_score\n",
    "# https://scikit-learn.org/stable/modules/generated/sklearn.metrics.precision_score.html#sklearn.metrics.precision_score\n",
    "# https://scikit-learn.org/stable/modules/generated/sklearn.metrics.f1_score.html#sklearn.metrics.f1_score"
   ]
  },
  {
   "cell_type": "code",
   "execution_count": 7,
   "metadata": {},
   "outputs": [
    {
     "name": "stdout",
     "output_type": "stream",
     "text": [
      "              precision    recall  f1-score   support\n",
      "\n",
      "           0       0.83      0.80      0.82        25\n",
      "           1       0.76      0.80      0.78        20\n",
      "\n",
      "    accuracy                           0.80        45\n",
      "   macro avg       0.80      0.80      0.80        45\n",
      "weighted avg       0.80      0.80      0.80        45\n",
      "\n"
     ]
    }
   ],
   "source": [
    "from sklearn.metrics import classification_report\n",
    "\n",
    "# See: https://scikit-learn.org/stable/modules/generated/sklearn.metrics.classification_report.html#sklearn.metrics.classification_report\n",
    "# A 'kitchen sink' utility for gathering precision, recall, f-1, support, accuracy.\n",
    "print(classification_report(y_true, y_pred))"
   ]
  }
 ],
 "metadata": {
  "interpreter": {
   "hash": "f9f85f796d01129d0dd105a088854619f454435301f6ffec2fea96ecbd9be4ac"
  },
  "kernelspec": {
   "display_name": "Python 3 (ipykernel)",
   "language": "python",
   "name": "python3"
  },
  "language_info": {
   "codemirror_mode": {
    "name": "ipython",
    "version": 3
   },
   "file_extension": ".py",
   "mimetype": "text/x-python",
   "name": "python",
   "nbconvert_exporter": "python",
   "pygments_lexer": "ipython3",
   "version": "3.11.5"
  }
 },
 "nbformat": 4,
 "nbformat_minor": 2
}
