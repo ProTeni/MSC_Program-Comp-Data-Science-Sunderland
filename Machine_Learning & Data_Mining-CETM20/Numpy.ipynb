{
 "cells": [
  {
   "cell_type": "markdown",
   "id": "3f7ca476",
   "metadata": {},
   "source": [
    "<span style = \"color: #82C8E5;\"> _Installed Numpy in my ML_DM environment; the env with the only python version of 3.10_ </span>"
   ]
  },
  {
   "cell_type": "code",
   "execution_count": 78,
   "id": "18ec21f8",
   "metadata": {},
   "outputs": [
    {
     "name": "stdout",
     "output_type": "stream",
     "text": [
      "c:\\Users\\kojus\\anaconda3\\envs\\ML_DM\\python.exe\n"
     ]
    }
   ],
   "source": [
    "import sys\n",
    "print(sys.executable)"
   ]
  },
  {
   "cell_type": "code",
   "execution_count": 2,
   "id": "0c07a508",
   "metadata": {},
   "outputs": [],
   "source": [
    "import numpy as np"
   ]
  },
  {
   "cell_type": "markdown",
   "id": "ba780310",
   "metadata": {},
   "source": [
    "<span style =\"color: #87ceeb;\"> ___Tasks___ </span>\n",
    "\n",
    "- Installing numpy via pip, Create a basic 1-D array, Index elements of an array, Use functions np.zeros(), np.ones(), np.empty() to initialise some basic arrays,Shape and Size of numpy arrays, ndim,size, shape, Array reshaping,\n",
    " Basic Array Operations, Broadcasting\n",
    "Working with Mathematical Formulas"
   ]
  },
  {
   "cell_type": "code",
   "execution_count": 3,
   "id": "7e7a181d",
   "metadata": {},
   "outputs": [
    {
     "data": {
      "text/plain": [
       "array([1, 2, 3, 4, 5, 6, 7, 8])"
      ]
     },
     "execution_count": 3,
     "metadata": {},
     "output_type": "execute_result"
    }
   ],
   "source": [
    "# An array is like an arbitrary store for storinga nd retrieving data\n",
    "\n",
    "np.array([1,2,3,4,5,6,7,8])"
   ]
  },
  {
   "cell_type": "code",
   "execution_count": 4,
   "id": "a2592f37",
   "metadata": {},
   "outputs": [
    {
     "data": {
      "text/plain": [
       "[1, 2, 3, 4, 5, 6, 7, 8]"
      ]
     },
     "execution_count": 4,
     "metadata": {},
     "output_type": "execute_result"
    }
   ],
   "source": [
    "[1,2,3,4,5,6,7,8]"
   ]
  },
  {
   "cell_type": "markdown",
   "id": "5adc8f97",
   "metadata": {},
   "source": [
    "<span style=\"color: #87ceeb;\"> _Comments_: </span>\n",
    "\n",
    "From my [research](https://numpy.org/doc/stable/user/absolute_beginners.html) and [understanding](https://chat.deepseek.com/a/chat/s/c42f3d4e-7444-46f6-9ea2-6f4af96c71be), the difference between a Python and Numpy array:\n",
    "\n",
    "- I understand that Numpy is faster in its output operation than a python mathematical list\n",
    "- Numpy allows for easier mathaematical operation per item in the array using slicing- where for python same would have top be done using for loop\n",
    "- Numpy works more effiiently on vectorization- which will support the basis of Neural Network\n",
    "- Numpy arrays can be access with ___Indexing___  a[1], ___slicing___ [2:3], [2:6,2],[:8,2], [::-1] (reverse) ,and ___Iterating___ _{for i in a: print(i**3/2)}_ , ***where Python solely relies on iteration***\n",
    "- Numpy is faster in its output than Python"
   ]
  },
  {
   "cell_type": "code",
   "execution_count": 5,
   "id": "71f30741",
   "metadata": {},
   "outputs": [
    {
     "data": {
      "text/plain": [
       "array([[ 1,  2,  3,  4],\n",
       "       [ 5,  6,  7,  8],\n",
       "       [ 9, 10, 11, 12]])"
      ]
     },
     "execution_count": 5,
     "metadata": {},
     "output_type": "execute_result"
    }
   ],
   "source": [
    "a = np.array([[1,2,3,4],[5,6,7,8], [9,10,11,12]])\n",
    "a"
   ]
  },
  {
   "cell_type": "code",
   "execution_count": 6,
   "id": "5ccde4b7",
   "metadata": {},
   "outputs": [
    {
     "data": {
      "text/plain": [
       "array([[1, 2, 3, 4],\n",
       "       [5, 6, 7, 8]])"
      ]
     },
     "execution_count": 6,
     "metadata": {},
     "output_type": "execute_result"
    }
   ],
   "source": [
    "a[0:2]\n",
    "#start at row 0  and end at row 2 (whuch does not include row 2)"
   ]
  },
  {
   "cell_type": "code",
   "execution_count": 7,
   "id": "422984ca",
   "metadata": {},
   "outputs": [
    {
     "data": {
      "text/plain": [
       "array([], shape=(0, 4), dtype=int64)"
      ]
     },
     "execution_count": 7,
     "metadata": {},
     "output_type": "execute_result"
    }
   ],
   "source": [
    "a[2:0]\n",
    "\n",
    "#I realize that when the stop number is less than the start; an enpty array will always be returned\n",
    "#So, to gte what is needed, it can be ordered such that the start is smaller but the skip will be in reverse"
   ]
  },
  {
   "cell_type": "code",
   "execution_count": 8,
   "id": "78fa8b01",
   "metadata": {},
   "outputs": [
    {
     "data": {
      "text/plain": [
       "array([], shape=(0, 4), dtype=int64)"
      ]
     },
     "execution_count": 8,
     "metadata": {},
     "output_type": "execute_result"
    }
   ],
   "source": [
    "a[0:3:-1]\n",
    "\n",
    "#the reason this is returning an emplty array is because\n",
    "# from a reverse pov, the start number is still small."
   ]
  },
  {
   "cell_type": "code",
   "execution_count": 9,
   "id": "735a7512",
   "metadata": {},
   "outputs": [
    {
     "data": {
      "text/plain": [
       "array([[ 1,  2,  3,  4],\n",
       "       [ 5,  6,  7,  8],\n",
       "       [ 9, 10, 11, 12]])"
      ]
     },
     "execution_count": 9,
     "metadata": {},
     "output_type": "execute_result"
    }
   ],
   "source": [
    "a[0:3]"
   ]
  },
  {
   "cell_type": "code",
   "execution_count": 10,
   "id": "6b99ae72",
   "metadata": {},
   "outputs": [
    {
     "data": {
      "text/plain": [
       "array([[ 9, 10, 11, 12],\n",
       "       [ 5,  6,  7,  8]])"
      ]
     },
     "execution_count": 10,
     "metadata": {},
     "output_type": "execute_result"
    }
   ],
   "source": [
    "a[3:0:-1]"
   ]
  },
  {
   "cell_type": "code",
   "execution_count": 11,
   "id": "4c8026d5",
   "metadata": {},
   "outputs": [
    {
     "data": {
      "text/plain": [
       "array([[ 9, 10, 11, 12],\n",
       "       [ 5,  6,  7,  8],\n",
       "       [ 1,  2,  3,  4]])"
      ]
     },
     "execution_count": 11,
     "metadata": {},
     "output_type": "execute_result"
    }
   ],
   "source": [
    "a[3::-1]"
   ]
  },
  {
   "cell_type": "code",
   "execution_count": 12,
   "id": "6810f27d",
   "metadata": {},
   "outputs": [
    {
     "data": {
      "text/plain": [
       "array([[ 1,  2,  3],\n",
       "       [ 5,  6,  7],\n",
       "       [ 9, 10, 11]])"
      ]
     },
     "execution_count": 12,
     "metadata": {},
     "output_type": "execute_result"
    }
   ],
   "source": [
    "# to get elements [123 through till 9-11]\n",
    "a[0:3, 0:3]"
   ]
  },
  {
   "cell_type": "code",
   "execution_count": 13,
   "id": "f7f460d6",
   "metadata": {},
   "outputs": [
    {
     "data": {
      "text/plain": [
       "array([[ 9, 10, 11, 12],\n",
       "       [ 5,  6,  7,  8]])"
      ]
     },
     "execution_count": 13,
     "metadata": {},
     "output_type": "execute_result"
    }
   ],
   "source": [
    "# to get elements [123 through till 9-11] in reverse order\n",
    "a[3:0:-1]"
   ]
  },
  {
   "cell_type": "code",
   "execution_count": 14,
   "id": "ddd9438a",
   "metadata": {},
   "outputs": [
    {
     "data": {
      "text/plain": [
       "array([[ 1,  2,  3,  4],\n",
       "       [ 5,  6,  7,  8],\n",
       "       [ 9, 10, 11, 12]])"
      ]
     },
     "execution_count": 14,
     "metadata": {},
     "output_type": "execute_result"
    }
   ],
   "source": [
    "a"
   ]
  },
  {
   "cell_type": "code",
   "execution_count": 15,
   "id": "693ce394",
   "metadata": {},
   "outputs": [
    {
     "data": {
      "text/plain": [
       "np.int64(7)"
      ]
     },
     "execution_count": 15,
     "metadata": {},
     "output_type": "execute_result"
    }
   ],
   "source": [
    "# to fetch the element 7\n",
    "a[1, 2]"
   ]
  },
  {
   "cell_type": "code",
   "execution_count": 16,
   "id": "0f384679",
   "metadata": {},
   "outputs": [
    {
     "data": {
      "text/plain": [
       "2"
      ]
     },
     "execution_count": 16,
     "metadata": {},
     "output_type": "execute_result"
    }
   ],
   "source": [
    "a.ndim \n",
    "\n",
    "# Meaning that this is a family lits only containg 1 list; which makes it 2"
   ]
  },
  {
   "cell_type": "code",
   "execution_count": 17,
   "id": "c75d5b79",
   "metadata": {},
   "outputs": [
    {
     "data": {
      "text/plain": [
       "(3, 4)"
      ]
     },
     "execution_count": 17,
     "metadata": {},
     "output_type": "execute_result"
    }
   ],
   "source": [
    "a.shape\n",
    "\n",
    "# number of rows, number of coloumns"
   ]
  },
  {
   "cell_type": "code",
   "execution_count": 18,
   "id": "effbf210",
   "metadata": {},
   "outputs": [
    {
     "data": {
      "text/plain": [
       "12"
      ]
     },
     "execution_count": 18,
     "metadata": {},
     "output_type": "execute_result"
    }
   ],
   "source": [
    "a.size\n",
    "\n",
    "# no.of rows * no. of col"
   ]
  },
  {
   "cell_type": "code",
   "execution_count": 19,
   "id": "e2c95a66",
   "metadata": {},
   "outputs": [
    {
     "data": {
      "text/plain": [
       "dtype('int64')"
      ]
     },
     "execution_count": 19,
     "metadata": {},
     "output_type": "execute_result"
    }
   ],
   "source": [
    "a.dtype"
   ]
  },
  {
   "cell_type": "code",
   "execution_count": 20,
   "id": "fbcd1fbb",
   "metadata": {},
   "outputs": [
    {
     "data": {
      "text/plain": [
       "array([0., 0., 0., 0., 0.])"
      ]
     },
     "execution_count": 20,
     "metadata": {},
     "output_type": "execute_result"
    }
   ],
   "source": [
    "np.zeros(5)"
   ]
  },
  {
   "cell_type": "code",
   "execution_count": 21,
   "id": "8b30c7c6",
   "metadata": {},
   "outputs": [
    {
     "data": {
      "text/plain": [
       "array([[1., 1., 1., 1., 1.],\n",
       "       [1., 1., 1., 1., 1.],\n",
       "       [1., 1., 1., 1., 1.],\n",
       "       [1., 1., 1., 1., 1.],\n",
       "       [1., 1., 1., 1., 1.],\n",
       "       [1., 1., 1., 1., 1.],\n",
       "       [1., 1., 1., 1., 1.],\n",
       "       [1., 1., 1., 1., 1.],\n",
       "       [1., 1., 1., 1., 1.],\n",
       "       [1., 1., 1., 1., 1.]])"
      ]
     },
     "execution_count": 21,
     "metadata": {},
     "output_type": "execute_result"
    }
   ],
   "source": [
    "np.ones([10, 5])"
   ]
  },
  {
   "cell_type": "code",
   "execution_count": 22,
   "id": "d427a2cb",
   "metadata": {},
   "outputs": [
    {
     "data": {
      "text/plain": [
       "array([0., 0., 0., 0., 0.])"
      ]
     },
     "execution_count": 22,
     "metadata": {},
     "output_type": "execute_result"
    }
   ],
   "source": [
    "np.empty(5)"
   ]
  },
  {
   "cell_type": "code",
   "execution_count": 23,
   "id": "7d1fd374",
   "metadata": {},
   "outputs": [
    {
     "data": {
      "text/plain": [
       "array([0., 2., 4., 6., 8.])"
      ]
     },
     "execution_count": 23,
     "metadata": {},
     "output_type": "execute_result"
    }
   ],
   "source": [
    "arr = np.empty(5)\n",
    "for i in range(5):\n",
    "    arr[i] = i * 2  # All elements are set before use\n",
    "arr "
   ]
  },
  {
   "cell_type": "code",
   "execution_count": 24,
   "id": "3e961fca",
   "metadata": {},
   "outputs": [
    {
     "data": {
      "text/plain": [
       "array([0., 2., 4., 6., 8.])"
      ]
     },
     "execution_count": 24,
     "metadata": {},
     "output_type": "execute_result"
    }
   ],
   "source": [
    "arr = np.zeros(5)\n",
    "for i in range(5):\n",
    "    arr[i] = i * 2  # All elements are set before use\n",
    "arr "
   ]
  },
  {
   "cell_type": "markdown",
   "id": "e90bb423",
   "metadata": {},
   "source": [
    "The difference between `empty` and `zeros` is that empty holds space in array to input any value of choice than zeros or ones."
   ]
  },
  {
   "cell_type": "code",
   "execution_count": 25,
   "id": "980a4f4f",
   "metadata": {},
   "outputs": [
    {
     "data": {
      "text/plain": [
       "array([  0.,   1.,   4.,   9.,  16.,  25.,  36.,  49.,  64.,  81., 100.,\n",
       "       121., 144., 169., 196., 225., 256., 289., 324., 361.])"
      ]
     },
     "execution_count": 25,
     "metadata": {},
     "output_type": "execute_result"
    }
   ],
   "source": [
    "arra = np.empty(20)\n",
    "\n",
    "for i in range(20):\n",
    "    arra[i] = i**2\n",
    "\n",
    "arra"
   ]
  },
  {
   "cell_type": "code",
   "execution_count": 26,
   "id": "06ca1af8",
   "metadata": {},
   "outputs": [
    {
     "data": {
      "text/plain": [
       "array([[  0.,   1.,   4.,   9.,  16.],\n",
       "       [ 25.,  36.,  49.,  64.,  81.],\n",
       "       [100., 121., 144., 169., 196.],\n",
       "       [225., 256., 289., 324., 361.]])"
      ]
     },
     "execution_count": 26,
     "metadata": {},
     "output_type": "execute_result"
    }
   ],
   "source": [
    "arra = np.empty((4, 5))\n",
    "\n",
    "for i in range(4):\n",
    "    for j in range(5):\n",
    "        arra[i, j] = (i * 5 + j) ** 2\n",
    "\n",
    "arra"
   ]
  },
  {
   "cell_type": "code",
   "execution_count": 27,
   "id": "ccc3dd4a",
   "metadata": {},
   "outputs": [
    {
     "data": {
      "text/plain": [
       "array([10, 20, 30, 40, 50, 60, 70, 80, 90])"
      ]
     },
     "execution_count": 27,
     "metadata": {},
     "output_type": "execute_result"
    }
   ],
   "source": [
    "np.arange(10,100,10)\n",
    "\n",
    "#start from 10, stop at 100 and skip by 10"
   ]
  },
  {
   "cell_type": "code",
   "execution_count": 28,
   "id": "d3f8fa17",
   "metadata": {},
   "outputs": [],
   "source": [
    "#np.arange([[10:100:10], [20:200:10]])\n",
    "\n",
    "#start from 10, stop at 100 and skip by 10\n"
   ]
  },
  {
   "cell_type": "code",
   "execution_count": 29,
   "id": "74810a9a",
   "metadata": {},
   "outputs": [
    {
     "data": {
      "text/plain": [
       "array([[ 10,  20,  30,  40,  50,  60,  70,  80,  90],\n",
       "       [ 20,  30,  40,  50,  60,  70,  80,  90, 100]])"
      ]
     },
     "execution_count": 29,
     "metadata": {},
     "output_type": "execute_result"
    }
   ],
   "source": [
    "# Correct way to create a 2D array with two different ranges as rows\n",
    "row1 = np.arange(10, 100, 10)\n",
    "row2 = np.arange(20, 110, 10)\n",
    "array_2d = np.vstack([row1, row2])\n",
    "array_2d"
   ]
  },
  {
   "cell_type": "code",
   "execution_count": 30,
   "id": "7bf28bfe",
   "metadata": {},
   "outputs": [
    {
     "data": {
      "text/plain": [
       "(9,)"
      ]
     },
     "execution_count": 30,
     "metadata": {},
     "output_type": "execute_result"
    }
   ],
   "source": [
    "row1.shape"
   ]
  },
  {
   "cell_type": "code",
   "execution_count": 31,
   "id": "11b54518",
   "metadata": {},
   "outputs": [
    {
     "data": {
      "text/plain": [
       "(9,)"
      ]
     },
     "execution_count": 31,
     "metadata": {},
     "output_type": "execute_result"
    }
   ],
   "source": [
    "row2.shape"
   ]
  },
  {
   "cell_type": "code",
   "execution_count": 32,
   "id": "ad56585a",
   "metadata": {},
   "outputs": [
    {
     "data": {
      "text/plain": [
       "1"
      ]
     },
     "execution_count": 32,
     "metadata": {},
     "output_type": "execute_result"
    }
   ],
   "source": [
    "row1.ndim"
   ]
  },
  {
   "cell_type": "code",
   "execution_count": 33,
   "id": "ff2c0667",
   "metadata": {},
   "outputs": [
    {
     "data": {
      "text/plain": [
       "1"
      ]
     },
     "execution_count": 33,
     "metadata": {},
     "output_type": "execute_result"
    }
   ],
   "source": [
    "row2.ndim"
   ]
  },
  {
   "cell_type": "code",
   "execution_count": 34,
   "id": "8177c5ad",
   "metadata": {},
   "outputs": [
    {
     "data": {
      "text/plain": [
       "array([[ 1,  6, 11, 16, 21, 26, 31, 36, 41, 46, 51, 56, 61, 66, 71, 76,\n",
       "        81, 86, 91, 96],\n",
       "       [ 1,  6, 11, 16, 21, 26, 31, 36, 41, 46, 51, 56, 61, 66, 71, 76,\n",
       "        81, 86, 91, 96],\n",
       "       [ 1,  6, 11, 16, 21, 26, 31, 36, 41, 46, 51, 56, 61, 66, 71, 76,\n",
       "        81, 86, 91, 96]])"
      ]
     },
     "execution_count": 34,
     "metadata": {},
     "output_type": "execute_result"
    }
   ],
   "source": [
    "row1 = np.arange(1, 100, 5)\n",
    "row2 = np.arange(1, 100, 5)\n",
    "row3 = np.arange(1, 100, 5)\n",
    "\n",
    "array_3d = np.vstack([row1, row2, row3])\n",
    "\n",
    "array_3d"
   ]
  },
  {
   "cell_type": "code",
   "execution_count": 35,
   "id": "55692bbd",
   "metadata": {},
   "outputs": [
    {
     "name": "stdout",
     "output_type": "stream",
     "text": [
      "(5, 5)\n"
     ]
    },
    {
     "data": {
      "text/plain": [
       "array([[ 1,  2,  3,  4,  5],\n",
       "       [ 6,  7,  8,  9, 10],\n",
       "       [11, 12, 13, 14, 15],\n",
       "       [16, 17, 18, 19, 20],\n",
       "       [21, 22, 23, 24, 25]])"
      ]
     },
     "execution_count": 35,
     "metadata": {},
     "output_type": "execute_result"
    }
   ],
   "source": [
    "row1 = np.arange(1, 6)\n",
    "row2 = np.arange(6, 11)\n",
    "row3 = np.arange(11, 16)\n",
    "row4 = np.arange(16, 21)\n",
    "row5 = np.arange(21, 26)\n",
    "array_2d = np.vstack([row1, row2, row3, row4, row5])\n",
    "print(array_2d.shape)  # (5, 5)\n",
    "array_2d"
   ]
  },
  {
   "cell_type": "code",
   "execution_count": 36,
   "id": "23b0738c",
   "metadata": {},
   "outputs": [
    {
     "data": {
      "text/plain": [
       "array([ 10.        ,  14.73684211,  19.47368421,  24.21052632,\n",
       "        28.94736842,  33.68421053,  38.42105263,  43.15789474,\n",
       "        47.89473684,  52.63157895,  57.36842105,  62.10526316,\n",
       "        66.84210526,  71.57894737,  76.31578947,  81.05263158,\n",
       "        85.78947368,  90.52631579,  95.26315789, 100.        ])"
      ]
     },
     "execution_count": 36,
     "metadata": {},
     "output_type": "execute_result"
    }
   ],
   "source": [
    "np.linspace(10, 100, 20)"
   ]
  },
  {
   "cell_type": "code",
   "execution_count": 37,
   "id": "1d9480c1",
   "metadata": {},
   "outputs": [
    {
     "data": {
      "text/plain": [
       "array([10, 30, 50, 70, 90])"
      ]
     },
     "execution_count": 37,
     "metadata": {},
     "output_type": "execute_result"
    }
   ],
   "source": [
    "np.arange(10,100,20)"
   ]
  },
  {
   "cell_type": "markdown",
   "id": "9a1c109a",
   "metadata": {},
   "source": [
    "<span style = \"color: #87ceeb;\"> _Comments_: </span>\n",
    "- vstack helps combine arrays\n",
    "\n",
    "- which comes in handy when an already created array needs to be updated (to add new rows)...maybe not updating the array\n",
    "- The dfference between `arange` and `linspace` is that the former has a __skip number__ which determines the pace at which the next number orderly, while the later has a __num__ = _total_desired_value_to_be_returned_. This solely states the total number of number to be returned."
   ]
  },
  {
   "cell_type": "markdown",
   "id": "354ecb9b",
   "metadata": {},
   "source": [
    "<span style = \"color: #87ceeb;\"> Array Attributes </span>:\n",
    "- .ndim\n",
    "- .shape\n",
    "- .size\n",
    "\n",
    "\n",
    "<span style=\"color: #87ceeb ;\"> Creating Basic Arrays </span>:\n",
    "- np.zeros()\n",
    "- np.ones()\n",
    "- np.arange()\n",
    "- np.linspace()\n",
    "- np.random.random()\n",
    "\n",
    "<span style=\"color: #87ceeb ;\"> Mathematical Operations </span>:\n",
    "- .sum()\n",
    "- .max()\n",
    "- .min()\n",
    "\n",
    "<span style=\"color: #87ceeb ;\"> Modifying Arrays </span>:\n",
    "- np.vstack\n",
    "- np.concatenate\n",
    "- np.flip()\n",
    "- np.reshape\n",
    "- np.sort()\n",
    "\n",
    "<span style=\"color: #87ceeb ;\"> Modifying Dimension </span>:\n",
    "- np.newaxis\n",
    "- np.expand_dims\n",
    "- np.flatten()\n",
    "- np.ravel()"
   ]
  },
  {
   "cell_type": "code",
   "execution_count": 38,
   "id": "f3561cbf",
   "metadata": {},
   "outputs": [
    {
     "data": {
      "text/plain": [
       "array([ 8. ,  7. , 90. , 20. ,  1. ,  0.5])"
      ]
     },
     "execution_count": 38,
     "metadata": {},
     "output_type": "execute_result"
    }
   ],
   "source": [
    "a = np.array([8,7,90,20,1,0.5])\n",
    "\n",
    "a"
   ]
  },
  {
   "cell_type": "code",
   "execution_count": 39,
   "id": "3624f2a3",
   "metadata": {},
   "outputs": [
    {
     "data": {
      "text/plain": [
       "array([ 0.5,  1. ,  7. ,  8. , 20. , 90. ])"
      ]
     },
     "execution_count": 39,
     "metadata": {},
     "output_type": "execute_result"
    }
   ],
   "source": [
    "np.sort(a)"
   ]
  },
  {
   "cell_type": "markdown",
   "id": "30fcf24f",
   "metadata": {},
   "source": [
    "other sort types:\n",
    "\n",
    "- argsort\n",
    "- lexsort\n",
    "- searchsorted\n",
    "- partition"
   ]
  },
  {
   "cell_type": "code",
   "execution_count": 40,
   "id": "e36fb34d",
   "metadata": {},
   "outputs": [
    {
     "data": {
      "text/plain": [
       "array([[ 1.,  2.,  3.,  4.,  5.],\n",
       "       [ 0.,  1.,  2.,  3.,  4.],\n",
       "       [10., 20., 30., 40., 50.]])"
      ]
     },
     "execution_count": 40,
     "metadata": {},
     "output_type": "execute_result"
    }
   ],
   "source": [
    "a = np.array([1,2,3,4,5])\n",
    "b = np.arange(0,5)\n",
    "c = np.linspace(10,50,5)\n",
    "\n",
    "np.concatenate([[a,b,c]])"
   ]
  },
  {
   "cell_type": "code",
   "execution_count": 41,
   "id": "4f7a67da",
   "metadata": {},
   "outputs": [
    {
     "data": {
      "text/plain": [
       "array([ 1.,  2.,  3.,  4.,  5.,  0.,  1.,  2.,  3.,  4., 10., 20., 30.,\n",
       "       40., 50.])"
      ]
     },
     "execution_count": 41,
     "metadata": {},
     "output_type": "execute_result"
    }
   ],
   "source": [
    "np.concatenate((a,b,c))"
   ]
  },
  {
   "cell_type": "code",
   "execution_count": 42,
   "id": "ee25a1aa",
   "metadata": {},
   "outputs": [
    {
     "data": {
      "text/plain": [
       "array([[ 1.,  2.,  3.,  4.,  5.],\n",
       "       [ 0.,  1.,  2.,  3.,  4.],\n",
       "       [10., 20., 30., 40., 50.]])"
      ]
     },
     "execution_count": 42,
     "metadata": {},
     "output_type": "execute_result"
    }
   ],
   "source": [
    "np.vstack([a,b,c])"
   ]
  },
  {
   "cell_type": "code",
   "execution_count": 43,
   "id": "222cc319",
   "metadata": {},
   "outputs": [
    {
     "data": {
      "text/plain": [
       "array([[ 1.,  2.,  3.,  4.,  5.],\n",
       "       [ 0.,  1.,  2.,  3.,  4.],\n",
       "       [10., 20., 30., 40., 50.]])"
      ]
     },
     "execution_count": 43,
     "metadata": {},
     "output_type": "execute_result"
    }
   ],
   "source": [
    "np.vstack((a,b,c))"
   ]
  },
  {
   "cell_type": "markdown",
   "id": "9ce3e86a",
   "metadata": {},
   "source": [
    "<span style =\"color: #87ceeb;\"> Comments </span>\n",
    "- From the above, `concatenate` __horozontally merges the rows as one single row__, while `vstack` __stacks them on each other vertically__."
   ]
  },
  {
   "cell_type": "code",
   "execution_count": 44,
   "id": "1a138271",
   "metadata": {},
   "outputs": [
    {
     "data": {
      "text/plain": [
       "array([[1, 2],\n",
       "       [3, 4],\n",
       "       [5, 6]])"
      ]
     },
     "execution_count": 44,
     "metadata": {},
     "output_type": "execute_result"
    }
   ],
   "source": [
    "x = np.array([[1, 2], [3, 4]])\n",
    "y = np.array([[5, 6]])\n",
    "\n",
    "z =np.concatenate((x, y), axis=0)\n",
    "z\n",
    "\n",
    "#So, axis=0 means \"add more rows.\" Both arrays must have the same number of column"
   ]
  },
  {
   "cell_type": "code",
   "execution_count": 45,
   "id": "4cd41138",
   "metadata": {},
   "outputs": [
    {
     "data": {
      "text/plain": [
       "6"
      ]
     },
     "execution_count": 45,
     "metadata": {},
     "output_type": "execute_result"
    }
   ],
   "source": [
    "np.size(z)"
   ]
  },
  {
   "cell_type": "code",
   "execution_count": 46,
   "id": "cc728787",
   "metadata": {},
   "outputs": [
    {
     "data": {
      "text/plain": [
       "array([[1, 2, 3],\n",
       "       [4, 5, 6]])"
      ]
     },
     "execution_count": 46,
     "metadata": {},
     "output_type": "execute_result"
    }
   ],
   "source": [
    "np.reshape(z, (2,3))"
   ]
  },
  {
   "cell_type": "code",
   "execution_count": 47,
   "id": "3ae5c93b",
   "metadata": {},
   "outputs": [
    {
     "data": {
      "text/plain": [
       "array([[1],\n",
       "       [2],\n",
       "       [3],\n",
       "       [4],\n",
       "       [5],\n",
       "       [6]])"
      ]
     },
     "execution_count": 47,
     "metadata": {},
     "output_type": "execute_result"
    }
   ],
   "source": [
    "np.reshape(z, (6, 1))"
   ]
  },
  {
   "cell_type": "code",
   "execution_count": 48,
   "id": "66a2826f",
   "metadata": {},
   "outputs": [
    {
     "data": {
      "text/plain": [
       "array([1, 2, 3, 4, 5, 6])"
      ]
     },
     "execution_count": 48,
     "metadata": {},
     "output_type": "execute_result"
    }
   ],
   "source": [
    "a = np.array([1, 2, 3, 4, 5, 6])\n",
    "a.shape\n",
    "a"
   ]
  },
  {
   "cell_type": "code",
   "execution_count": 49,
   "id": "ad4dd084",
   "metadata": {},
   "outputs": [
    {
     "data": {
      "text/plain": [
       "array([[1, 2, 3, 4, 5, 6]])"
      ]
     },
     "execution_count": 49,
     "metadata": {},
     "output_type": "execute_result"
    }
   ],
   "source": [
    "a3 = a[np.newaxis,:]\n",
    "a3"
   ]
  },
  {
   "cell_type": "code",
   "execution_count": 50,
   "id": "d3dc1cf5",
   "metadata": {},
   "outputs": [
    {
     "data": {
      "text/plain": [
       "array([[1],\n",
       "       [2],\n",
       "       [3],\n",
       "       [4],\n",
       "       [5],\n",
       "       [6]])"
      ]
     },
     "execution_count": 50,
     "metadata": {},
     "output_type": "execute_result"
    }
   ],
   "source": [
    "a4 = a[:, np.newaxis]\n",
    "a4"
   ]
  },
  {
   "cell_type": "code",
   "execution_count": 51,
   "id": "5b466db9",
   "metadata": {},
   "outputs": [
    {
     "data": {
      "text/plain": [
       "array([1, 2, 3, 4, 5, 6])"
      ]
     },
     "execution_count": 51,
     "metadata": {},
     "output_type": "execute_result"
    }
   ],
   "source": [
    "a = np.array([1, 2, 3, 4, 5, 6])\n",
    "a"
   ]
  },
  {
   "cell_type": "code",
   "execution_count": 52,
   "id": "ca3b223a",
   "metadata": {},
   "outputs": [
    {
     "data": {
      "text/plain": [
       "array([[1],\n",
       "       [2],\n",
       "       [3],\n",
       "       [4],\n",
       "       [5],\n",
       "       [6]])"
      ]
     },
     "execution_count": 52,
     "metadata": {},
     "output_type": "execute_result"
    }
   ],
   "source": [
    "b = np.expand_dims(a, axis=1)\n",
    "b"
   ]
  },
  {
   "cell_type": "code",
   "execution_count": 53,
   "id": "4dcd4ecf",
   "metadata": {},
   "outputs": [],
   "source": [
    "\n",
    "a = np.array([[1, 2, 3, 4], [5, 6, 7, 8], [9, 10, 11, 12]])"
   ]
  },
  {
   "cell_type": "code",
   "execution_count": 54,
   "id": "34aafff0",
   "metadata": {},
   "outputs": [
    {
     "name": "stdout",
     "output_type": "stream",
     "text": [
      "[[False False False False]\n",
      " [ True False False False]\n",
      " [False False False False]]\n"
     ]
    }
   ],
   "source": [
    "print (a==5)"
   ]
  },
  {
   "cell_type": "code",
   "execution_count": 55,
   "id": "df98da82",
   "metadata": {},
   "outputs": [
    {
     "name": "stdout",
     "output_type": "stream",
     "text": [
      "[ 5  6  7  8  9 10 11 12]\n"
     ]
    }
   ],
   "source": [
    "print(a[a>=5])"
   ]
  },
  {
   "cell_type": "code",
   "execution_count": 56,
   "id": "688e96ec",
   "metadata": {},
   "outputs": [
    {
     "name": "stdout",
     "output_type": "stream",
     "text": [
      "[ 3  4  5  6  7  8  9 10]\n"
     ]
    }
   ],
   "source": [
    "print(a[(a<=10) & (a>=3)])"
   ]
  },
  {
   "cell_type": "code",
   "execution_count": 57,
   "id": "65a11307",
   "metadata": {},
   "outputs": [
    {
     "data": {
      "text/plain": [
       "array([10., 20., 35., 40.])"
      ]
     },
     "execution_count": 57,
     "metadata": {},
     "output_type": "execute_result"
    }
   ],
   "source": [
    "#array allows broadcast\n",
    "\n",
    "np.array([1,2,3.5,4]) *10"
   ]
  },
  {
   "cell_type": "code",
   "execution_count": 58,
   "id": "f0f94a20",
   "metadata": {},
   "outputs": [
    {
     "data": {
      "text/plain": [
       "np.int64(78)"
      ]
     },
     "execution_count": 58,
     "metadata": {},
     "output_type": "execute_result"
    }
   ],
   "source": [
    "a.sum()\n",
    "\n",
    "#sums up an entire array"
   ]
  },
  {
   "cell_type": "code",
   "execution_count": 59,
   "id": "fb261e4a",
   "metadata": {},
   "outputs": [
    {
     "data": {
      "text/plain": [
       "np.int64(12)"
      ]
     },
     "execution_count": 59,
     "metadata": {},
     "output_type": "execute_result"
    }
   ],
   "source": [
    "a.max()"
   ]
  },
  {
   "cell_type": "code",
   "execution_count": 60,
   "id": "f6aeb8ed",
   "metadata": {},
   "outputs": [
    {
     "data": {
      "text/plain": [
       "np.int64(1)"
      ]
     },
     "execution_count": 60,
     "metadata": {},
     "output_type": "execute_result"
    }
   ],
   "source": [
    "a.min()"
   ]
  },
  {
   "cell_type": "code",
   "execution_count": 61,
   "id": "4e075c66",
   "metadata": {},
   "outputs": [
    {
     "data": {
      "text/plain": [
       "array([ 1,  2,  3,  4,  5,  6,  7,  8,  9, 10, 11, 12])"
      ]
     },
     "execution_count": 61,
     "metadata": {},
     "output_type": "execute_result"
    }
   ],
   "source": [
    "np.unique(a)"
   ]
  },
  {
   "cell_type": "code",
   "execution_count": 62,
   "id": "b93fdc1b",
   "metadata": {},
   "outputs": [
    {
     "data": {
      "text/plain": [
       "array([[ 1,  2,  3,  4],\n",
       "       [ 5,  6,  7,  8],\n",
       "       [ 9, 10, 11, 12]])"
      ]
     },
     "execution_count": 62,
     "metadata": {},
     "output_type": "execute_result"
    }
   ],
   "source": [
    "a"
   ]
  },
  {
   "cell_type": "code",
   "execution_count": 63,
   "id": "0773cf93",
   "metadata": {},
   "outputs": [
    {
     "data": {
      "text/plain": [
       "array([[ 1,  5,  9],\n",
       "       [ 2,  6, 10],\n",
       "       [ 3,  7, 11],\n",
       "       [ 4,  8, 12]])"
      ]
     },
     "execution_count": 63,
     "metadata": {},
     "output_type": "execute_result"
    }
   ],
   "source": [
    "a.transpose()"
   ]
  },
  {
   "cell_type": "code",
   "execution_count": 64,
   "id": "10384a08",
   "metadata": {},
   "outputs": [
    {
     "data": {
      "text/plain": [
       "(3, 4)"
      ]
     },
     "execution_count": 64,
     "metadata": {},
     "output_type": "execute_result"
    }
   ],
   "source": [
    "a.shape"
   ]
  },
  {
   "cell_type": "code",
   "execution_count": 65,
   "id": "1580422f",
   "metadata": {},
   "outputs": [
    {
     "data": {
      "text/plain": [
       "array([[ 1,  2],\n",
       "       [ 3,  4],\n",
       "       [ 5,  6],\n",
       "       [ 7,  8],\n",
       "       [ 9, 10],\n",
       "       [11, 12]])"
      ]
     },
     "execution_count": 65,
     "metadata": {},
     "output_type": "execute_result"
    }
   ],
   "source": [
    "np.reshape(a, (6,2))"
   ]
  },
  {
   "cell_type": "code",
   "execution_count": 66,
   "id": "2987d300",
   "metadata": {},
   "outputs": [
    {
     "data": {
      "text/plain": [
       "array([[ 1,  5,  9],\n",
       "       [ 2,  6, 10],\n",
       "       [ 3,  7, 11],\n",
       "       [ 4,  8, 12]])"
      ]
     },
     "execution_count": 66,
     "metadata": {},
     "output_type": "execute_result"
    }
   ],
   "source": [
    "a.T"
   ]
  },
  {
   "cell_type": "code",
   "execution_count": 67,
   "id": "819f9a6c",
   "metadata": {},
   "outputs": [
    {
     "data": {
      "text/plain": [
       "array([[ 1,  2,  3,  4],\n",
       "       [ 5,  6,  7,  8],\n",
       "       [ 9, 10, 11, 12]])"
      ]
     },
     "execution_count": 67,
     "metadata": {},
     "output_type": "execute_result"
    }
   ],
   "source": [
    "a"
   ]
  },
  {
   "cell_type": "code",
   "execution_count": 68,
   "id": "267aa12f",
   "metadata": {},
   "outputs": [
    {
     "data": {
      "text/plain": [
       "array([[12, 11, 10,  9],\n",
       "       [ 8,  7,  6,  5],\n",
       "       [ 4,  3,  2,  1]])"
      ]
     },
     "execution_count": 68,
     "metadata": {},
     "output_type": "execute_result"
    }
   ],
   "source": [
    "np.flip(a)\n",
    "\n",
    "# reverses given array"
   ]
  },
  {
   "cell_type": "code",
   "execution_count": 69,
   "id": "2431386c",
   "metadata": {},
   "outputs": [
    {
     "data": {
      "text/plain": [
       "2"
      ]
     },
     "execution_count": 69,
     "metadata": {},
     "output_type": "execute_result"
    }
   ],
   "source": [
    "a.ndim"
   ]
  },
  {
   "cell_type": "code",
   "execution_count": 70,
   "id": "b81bc7b5",
   "metadata": {},
   "outputs": [
    {
     "data": {
      "text/plain": [
       "(3, 4)"
      ]
     },
     "execution_count": 70,
     "metadata": {},
     "output_type": "execute_result"
    }
   ],
   "source": [
    "a.shape"
   ]
  },
  {
   "cell_type": "code",
   "execution_count": 71,
   "id": "a38e95eb",
   "metadata": {},
   "outputs": [],
   "source": [
    "a = a[np.newaxis, np.newaxis]"
   ]
  },
  {
   "cell_type": "code",
   "execution_count": 72,
   "id": "7ca5b228",
   "metadata": {},
   "outputs": [
    {
     "data": {
      "text/plain": [
       "4"
      ]
     },
     "execution_count": 72,
     "metadata": {},
     "output_type": "execute_result"
    }
   ],
   "source": [
    "a.ndim"
   ]
  },
  {
   "cell_type": "code",
   "execution_count": 73,
   "id": "de755d18",
   "metadata": {},
   "outputs": [
    {
     "data": {
      "text/plain": [
       "array([[[[ 1,  2,  3,  4],\n",
       "         [ 5,  6,  7,  8],\n",
       "         [ 9, 10, 11, 12]]]])"
      ]
     },
     "execution_count": 73,
     "metadata": {},
     "output_type": "execute_result"
    }
   ],
   "source": [
    "a"
   ]
  },
  {
   "cell_type": "code",
   "execution_count": 74,
   "id": "25e3298b",
   "metadata": {},
   "outputs": [
    {
     "data": {
      "text/plain": [
       "array([ 1,  2,  3,  4,  5,  6,  7,  8,  9, 10, 11, 12])"
      ]
     },
     "execution_count": 74,
     "metadata": {},
     "output_type": "execute_result"
    }
   ],
   "source": [
    "b = a.flatten()\n",
    "b"
   ]
  },
  {
   "cell_type": "code",
   "execution_count": 75,
   "id": "cfa5befc",
   "metadata": {},
   "outputs": [
    {
     "data": {
      "text/plain": [
       "1"
      ]
     },
     "execution_count": 75,
     "metadata": {},
     "output_type": "execute_result"
    }
   ],
   "source": [
    "b.ndim"
   ]
  },
  {
   "cell_type": "code",
   "execution_count": 76,
   "id": "f8d98b27",
   "metadata": {},
   "outputs": [
    {
     "data": {
      "text/plain": [
       "4"
      ]
     },
     "execution_count": 76,
     "metadata": {},
     "output_type": "execute_result"
    }
   ],
   "source": [
    "a.ndim"
   ]
  },
  {
   "cell_type": "code",
   "execution_count": 77,
   "id": "c4e8e306",
   "metadata": {},
   "outputs": [
    {
     "name": "stdout",
     "output_type": "stream",
     "text": [
      "[20  2  3  4  5  6  7  8  9 10 11 12]\n",
      "1\n",
      "[[[[20  2  3  4]\n",
      "   [ 5  6  7  8]\n",
      "   [ 9 10 11 12]]]]\n",
      "4\n"
     ]
    }
   ],
   "source": [
    "#with ravel, the items in original data is also altered\n",
    "# the ndim will be different- but the element become alike\n",
    "c=a.ravel()\n",
    "c[0]=20\n",
    "\n",
    "print(c)\n",
    "print(c.ndim)\n",
    "\n",
    "print(a)\n",
    "print(a.ndim)"
   ]
  },
  {
   "cell_type": "code",
   "execution_count": null,
   "id": "df903a1c",
   "metadata": {},
   "outputs": [],
   "source": []
  }
 ],
 "metadata": {
  "kernelspec": {
   "display_name": "ML_DM",
   "language": "python",
   "name": "python3"
  },
  "language_info": {
   "codemirror_mode": {
    "name": "ipython",
    "version": 3
   },
   "file_extension": ".py",
   "mimetype": "text/x-python",
   "name": "python",
   "nbconvert_exporter": "python",
   "pygments_lexer": "ipython3",
   "version": "3.10.18"
  }
 },
 "nbformat": 4,
 "nbformat_minor": 5
}
