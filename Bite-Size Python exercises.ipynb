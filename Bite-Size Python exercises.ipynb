{
 "cells": [
  {
   "cell_type": "markdown",
   "id": "c22cc952",
   "metadata": {},
   "source": [
    "## _List_"
   ]
  },
  {
   "cell_type": "code",
   "execution_count": 59,
   "id": "45feca99",
   "metadata": {},
   "outputs": [
    {
     "name": "stdout",
     "output_type": "stream",
     "text": [
      "['reading', 'dancing', 'playing']\n"
     ]
    }
   ],
   "source": [
    "hobbies = ['reading', 'dancing', 'playing']\n",
    "print(hobbies)"
   ]
  },
  {
   "cell_type": "code",
   "execution_count": 60,
   "id": "20821ad1",
   "metadata": {},
   "outputs": [
    {
     "data": {
      "text/plain": [
       "3"
      ]
     },
     "execution_count": 60,
     "metadata": {},
     "output_type": "execute_result"
    }
   ],
   "source": [
    "len(hobbies)"
   ]
  },
  {
   "cell_type": "markdown",
   "id": "953e5c35",
   "metadata": {},
   "source": [
    "using the _In_ method to confirm the item in a list"
   ]
  },
  {
   "cell_type": "code",
   "execution_count": 61,
   "id": "f7975a02",
   "metadata": {},
   "outputs": [
    {
     "data": {
      "text/plain": [
       "False"
      ]
     },
     "execution_count": 61,
     "metadata": {},
     "output_type": "execute_result"
    }
   ],
   "source": [
    "'singing' in hobbies"
   ]
  },
  {
   "cell_type": "code",
   "execution_count": 62,
   "id": "b7c03c4d",
   "metadata": {},
   "outputs": [
    {
     "data": {
      "text/plain": [
       "True"
      ]
     },
     "execution_count": 62,
     "metadata": {},
     "output_type": "execute_result"
    }
   ],
   "source": [
    "'reading' in hobbies"
   ]
  },
  {
   "cell_type": "markdown",
   "id": "f73414c7",
   "metadata": {},
   "source": [
    "Using the _Index_ to find the position of the item _in_ a list"
   ]
  },
  {
   "cell_type": "code",
   "execution_count": 63,
   "id": "1107247c",
   "metadata": {},
   "outputs": [
    {
     "data": {
      "text/plain": [
       "1"
      ]
     },
     "execution_count": 63,
     "metadata": {},
     "output_type": "execute_result"
    }
   ],
   "source": [
    "hobbies.index('dancing')"
   ]
  },
  {
   "cell_type": "code",
   "execution_count": 64,
   "id": "210f4183",
   "metadata": {},
   "outputs": [
    {
     "data": {
      "text/plain": [
       "'playing'"
      ]
     },
     "execution_count": 64,
     "metadata": {},
     "output_type": "execute_result"
    }
   ],
   "source": [
    "hobbies[2]"
   ]
  },
  {
   "cell_type": "markdown",
   "id": "f1108758",
   "metadata": {},
   "source": [
    "Replacing the item in a list"
   ]
  },
  {
   "cell_type": "code",
   "execution_count": 65,
   "id": "3a99ae31",
   "metadata": {},
   "outputs": [],
   "source": [
    "hobbies[hobbies.index('dancing')] = 'exercising'"
   ]
  },
  {
   "cell_type": "code",
   "execution_count": 66,
   "id": "994c6f73",
   "metadata": {},
   "outputs": [
    {
     "name": "stdout",
     "output_type": "stream",
     "text": [
      "['reading', 'exercising', 'playing']\n"
     ]
    }
   ],
   "source": [
    "print(hobbies)"
   ]
  },
  {
   "cell_type": "markdown",
   "id": "2730346b",
   "metadata": {},
   "source": [
    "OR"
   ]
  },
  {
   "cell_type": "code",
   "execution_count": 67,
   "metadata": {},
   "outputs": [],
   "source": [
    "hobbies[2] = 'traveling'"
   ]
  },
  {
   "cell_type": "code",
   "execution_count": 68,
   "metadata": {},
   "outputs": [
    {
     "data": {
      "text/plain": [
       "['reading', 'exercising', 'traveling']"
      ]
     },
     "execution_count": 68,
     "metadata": {},
     "output_type": "execute_result"
    }
   ],
   "source": [
    "hobbies"
   ]
  },
  {
   "cell_type": "markdown",
   "id": "679972d4",
   "metadata": {},
   "source": [
    "Extend the length of the list by _Appending_ more items than the current number."
   ]
  },
  {
   "cell_type": "code",
   "execution_count": 69,
   "metadata": {},
   "outputs": [],
   "source": [
    "hobbies.append('listening to podcasts')"
   ]
  },
  {
   "cell_type": "code",
   "execution_count": 70,
   "id": "2ac5105f",
   "metadata": {},
   "outputs": [
    {
     "data": {
      "text/plain": [
       "['reading', 'exercising', 'traveling', 'listening to podcasts']"
      ]
     },
     "execution_count": 70,
     "metadata": {},
     "output_type": "execute_result"
    }
   ],
   "source": [
    "hobbies"
   ]
  },
  {
   "cell_type": "code",
   "execution_count": 71,
   "id": "b7b26764",
   "metadata": {},
   "outputs": [
    {
     "data": {
      "text/plain": [
       "4"
      ]
     },
     "execution_count": 71,
     "metadata": {},
     "output_type": "execute_result"
    }
   ],
   "source": [
    "len(hobbies)"
   ]
  },
  {
   "cell_type": "code",
   "execution_count": 72,
   "id": "563fab47",
   "metadata": {},
   "outputs": [],
   "source": [
    "hobbies.insert(1, 'resting')"
   ]
  },
  {
   "cell_type": "code",
   "execution_count": 73,
   "id": "d470611a",
   "metadata": {},
   "outputs": [
    {
     "data": {
      "text/plain": [
       "['reading', 'resting', 'exercising', 'traveling', 'listening to podcasts']"
      ]
     },
     "execution_count": 73,
     "metadata": {},
     "output_type": "execute_result"
    }
   ],
   "source": [
    "hobbies"
   ]
  },
  {
   "cell_type": "code",
   "execution_count": 74,
   "id": "6a9b7329",
   "metadata": {},
   "outputs": [
    {
     "data": {
      "text/plain": [
       "5"
      ]
     },
     "execution_count": 74,
     "metadata": {},
     "output_type": "execute_result"
    }
   ],
   "source": [
    "len(hobbies)"
   ]
  },
  {
   "cell_type": "markdown",
   "id": "9a741f82",
   "metadata": {},
   "source": [
    "The _remove_ method takes an indicated _item_ out of the list"
   ]
  },
  {
   "cell_type": "code",
   "execution_count": 75,
   "id": "c0c8462b",
   "metadata": {},
   "outputs": [],
   "source": [
    "hobbies.remove('traveling')"
   ]
  },
  {
   "cell_type": "code",
   "execution_count": 76,
   "id": "e56ab1ab",
   "metadata": {},
   "outputs": [
    {
     "data": {
      "text/plain": [
       "4"
      ]
     },
     "execution_count": 76,
     "metadata": {},
     "output_type": "execute_result"
    }
   ],
   "source": [
    "len(hobbies)"
   ]
  },
  {
   "cell_type": "code",
   "execution_count": 77,
   "id": "36664287",
   "metadata": {},
   "outputs": [
    {
     "data": {
      "text/plain": [
       "'exercising'"
      ]
     },
     "execution_count": 77,
     "metadata": {},
     "output_type": "execute_result"
    }
   ],
   "source": [
    "hobbies.pop(2)"
   ]
  },
  {
   "cell_type": "code",
   "execution_count": 78,
   "id": "99b79e28",
   "metadata": {},
   "outputs": [
    {
     "data": {
      "text/plain": [
       "['reading', 'resting', 'listening to podcasts']"
      ]
     },
     "execution_count": 78,
     "metadata": {},
     "output_type": "execute_result"
    }
   ],
   "source": [
    "hobbies"
   ]
  },
  {
   "cell_type": "code",
   "execution_count": 79,
   "metadata": {},
   "outputs": [
    {
     "data": {
      "text/plain": [
       "'listening to podcasts'"
      ]
     },
     "execution_count": 79,
     "metadata": {},
     "output_type": "execute_result"
    }
   ],
   "source": [
    "hobbies.pop()\n",
    "\n",
    "# removes the last item if no index is entered"
   ]
  },
  {
   "cell_type": "markdown",
   "id": "cd4dff77",
   "metadata": {},
   "source": [
    "_Concatenate_"
   ]
  },
  {
   "cell_type": "code",
   "execution_count": 80,
   "id": "054f05b6",
   "metadata": {},
   "outputs": [
    {
     "data": {
      "text/plain": [
       "['a', 'b', 'c', 1, 2, 3]"
      ]
     },
     "execution_count": 80,
     "metadata": {},
     "output_type": "execute_result"
    }
   ],
   "source": [
    "my_list = ['a', 'b', 'c']\n",
    "\n",
    "my_other_list = [1, 2, 3]\n",
    "\n",
    "joined_list = my_list + my_other_list\n",
    "\n",
    "joined_list"
   ]
  },
  {
   "cell_type": "code",
   "execution_count": 85,
   "id": "a8219c56",
   "metadata": {},
   "outputs": [],
   "source": [
    "my_list = ['a', 'b', 'c', 'd']\n",
    "\n",
    "my_other_list = [1, 2, 3, 89]\n",
    "\n",
    "result = my_list.extend(my_other_list)\n",
    "result"
   ]
  },
  {
   "cell_type": "code",
   "execution_count": 82,
   "id": "4cf939ed",
   "metadata": {},
   "outputs": [
    {
     "data": {
      "text/plain": [
       "['a', 'b', 'c', 1, 2, 3]"
      ]
     },
     "execution_count": 82,
     "metadata": {},
     "output_type": "execute_result"
    }
   ],
   "source": [
    "my_list"
   ]
  },
  {
   "cell_type": "code",
   "execution_count": 86,
   "metadata": {},
   "outputs": [
    {
     "data": {
      "text/plain": [
       "['b', 'c', 'd']"
      ]
     },
     "execution_count": 86,
     "metadata": {},
     "output_type": "execute_result"
    }
   ],
   "source": [
    "my_list[1:4]"
   ]
  },
  {
   "cell_type": "code",
   "execution_count": null,
   "id": "1f34c552",
   "metadata": {},
   "outputs": [],
   "source": []
  },
  {
   "cell_type": "markdown",
   "id": "6999c27d",
   "metadata": {},
   "source": [
    "## _Numbers_"
   ]
  },
  {
   "cell_type": "code",
   "execution_count": null,
   "id": "a49be8fc",
   "metadata": {},
   "outputs": [],
   "source": []
  },
  {
   "cell_type": "code",
   "execution_count": null,
   "id": "7fab90d1",
   "metadata": {},
   "outputs": [],
   "source": []
  },
  {
   "cell_type": "code",
   "execution_count": null,
   "id": "2e233e70",
   "metadata": {},
   "outputs": [],
   "source": []
  },
  {
   "cell_type": "markdown",
   "id": "7e54949b",
   "metadata": {},
   "source": [
    "## _Functions_"
   ]
  },
  {
   "cell_type": "markdown",
   "id": "31864a47",
   "metadata": {},
   "source": [
    "the default arguments- when we have parameters withn a fucntion with dedault expressions that ar retruned if no other value is shared."
   ]
  },
  {
   "cell_type": "code",
   "execution_count": 99,
   "id": "ae7d5b48",
   "metadata": {},
   "outputs": [],
   "source": [
    "def states_travelled(*states):\n",
    "    length = len(states)\n",
    "    for state in states:\n",
    "        print(f\"I've visited {state}\")\n",
    "    print(f\"In total, I've visited {length} states\")"
   ]
  },
  {
   "cell_type": "code",
   "execution_count": 100,
   "id": "06320c14",
   "metadata": {},
   "outputs": [
    {
     "name": "stdout",
     "output_type": "stream",
     "text": [
      "I've visited Texas\n",
      "I've visited Florida\n",
      "I've visited California\n",
      "I've visited New York\n",
      "In total, I've visited 4 states\n"
     ]
    }
   ],
   "source": [
    "states_travelled('Texas', 'Florida', 'California', 'New York')  "
   ]
  },
  {
   "cell_type": "markdown",
   "id": "b59b346d",
   "metadata": {},
   "source": [
    "_Keyword Arguments_"
   ]
  },
  {
   "cell_type": "code",
   "execution_count": 101,
   "id": "593fd725",
   "metadata": {},
   "outputs": [],
   "source": [
    "def my_studies (course_1, course_2, course_3):\n",
    "    print(f\" My courses are {course_1}, {course_2}, and {course_3}\")"
   ]
  },
  {
   "cell_type": "code",
   "execution_count": 102,
   "id": "b582bcde",
   "metadata": {},
   "outputs": [
    {
     "name": "stdout",
     "output_type": "stream",
     "text": [
      " My courses are Data Mining, Python Programming, and Machine Learning\n"
     ]
    }
   ],
   "source": [
    "my_studies(course_3='Machine Learning', course_1='Data Mining', course_2='Python Programming')\n",
    "\n",
    "# Using the Kwargs- key word arguments- the order will be retruned according to the default arrangement of the parameters in the function definition"
   ]
  },
  {
   "cell_type": "code",
   "execution_count": 103,
   "id": "f474b4bf",
   "metadata": {},
   "outputs": [
    {
     "name": "stdout",
     "output_type": "stream",
     "text": [
      " My courses are Machine Learning, Data Mining, and Python Programming\n"
     ]
    }
   ],
   "source": [
    "#without the keyword argument in the called-function, the order will be dismissed.\n",
    "\n",
    "my_studies('Machine Learning','Data Mining', 'Python Programming')"
   ]
  },
  {
   "cell_type": "markdown",
   "id": "8adecd3e",
   "metadata": {},
   "source": [
    "<span style=\"color: #87ceeb;\"> **Project Customer_Service Bot** </span>\n",
    "\n",
    "\n",
    "\n",
    "Tiny Space is a furniture store that specializes in selling furniture for small spaces. The company has one location in addition to a website, which features a customer service chat window that enables customers to chat in real time with someone from the Tiny Space team. When Addison first started Tiny Space, she and her team handled all incoming chat messages from customers as soon as an incoming message was received. However, business has grown from the early days of Tiny Space, and the Tiny Space team can no longer dedicate a significant amount of their day to responding to chat inquiries. Addison began to explore solutions that could minimize the amount of time spent on conversations with customers.\n",
    "\n",
    "Addison figured that she could add a chat bot to the chat feature on the Tiny Space website to screen incoming chat messages and route customers to the appropriate person on the Tiny Space team if human assistance is needed. For some inquiries, the chat bot should be able to answer a customer's question without the need to have someone from the Tiny Space online team involved. Addison would also like the bot to mimic an actual conversation with a human.\n",
    "\n",
    "Help the Tiny Space team by creating a program for the Tiny Space website chat bot.\n",
    "\n",
    "Additional information for how the chat bot should respond to chat messages is provided next."
   ]
  },
  {
   "cell_type": "markdown",
   "id": "cf3efe05",
   "metadata": {},
   "source": [
    "---\n",
    "<span style= \"color: #87ceeb;\"> _Greeting_ </span>\n",
    "\n",
    "When a customer starts a chat message with Tiny Space, the bot should greet the customer with the phrase Thanks for contacting Tiny Space!\n",
    "\n",
    "The bot should then collect the customer's name before continuing with the conversation. After the bot collects the customer's name, the bot should respond with the phrase Thanks, {insert customer's name}!"
   ]
  },
  {
   "cell_type": "code",
   "execution_count": 106,
   "id": "09bc6f8d",
   "metadata": {},
   "outputs": [],
   "source": [
    "def greeting(name = 'our highly esteemed customer'):\n",
    "    print(\"Thanks for contacting Tiny Space!\")\n",
    "    name = input(\"What's your name? \") \n",
    "    print(f'Thanks, {name}')"
   ]
  },
  {
   "cell_type": "code",
   "execution_count": 107,
   "id": "bc8f95af",
   "metadata": {},
   "outputs": [
    {
     "name": "stdout",
     "output_type": "stream",
     "text": [
      "Thanks for contacting Tiny Space!\n",
      "Thanks, Teni\n"
     ]
    }
   ],
   "source": [
    "greeting()"
   ]
  },
  {
   "cell_type": "markdown",
   "id": "37439171",
   "metadata": {},
   "source": [
    "<span style= \"color: #87ceeb;\"> _Inquiry Categories_ </span>\n",
    "\n",
    "When a customer starts a chat message with Tiny Space, their inquiry typically falls into one of five categories. The Tiny Space team member responsible for providing human assistance after the initial inquiry screening is provided next to their assigned category, as shown here:\n",
    "\n",
    "Store Location and Hours\n",
    "Order Status: Elliot\n",
    "Issue with Order: Chrissa\n",
    "Design Services: Ramon\n",
    "Other: Trinity\n",
    "\n",
    "Store Location and Hours is the only inquiry category that does not require a transfer to a human for assistance.\n",
    "\n",
    "After the chat bot greets the customer, the bot should respond with this message: Please select from one of the categories below using the numbers 1–5. The customer should then select an inquiry category from the categories described earlier. If the customer provides an unrecognizable response, the bot should ask the customer to select a category provided and repeat the list of categories."
   ]
  },
  {
   "cell_type": "code",
   "execution_count": 137,
   "metadata": {},
   "outputs": [],
   "source": [
    "def inquiry_category():\n",
    "\n",
    "    print(\" For us to help you today, please read through and select a number from the listed categories below: \")\n",
    "    print(\"1. Store Location and Hours\\n2. Order Status\\n3. Issue with Order\\n4. Design Services\\n5. Other\")\n",
    "\n",
    "    inquiry_number = int(input(\"From the inquiries listed above, please enter a number between 1-5: \"))\n",
    "\n",
    "    while inquiry_number not in range(1, 6):\n",
    "        print(\"Please select a number between 1-5 that states why you are contacting us today.\")\n",
    "        inquiry_number = int(input(\"From the inquiries listed above, please enter a number between 1-5: \"))\n",
    "\n",
    "    if inquiry_number == 1:\n",
    "        print(\"You selected Store Location and Hours. Which store location would you like to inquire about?\")\n",
    "    elif inquiry_number == 2:\n",
    "        print(\"You selected Order Status, you will now be transferred to Eliot for further assistance.\")\n",
    "    elif inquiry_number == 3:\n",
    "        print(\"You selected Issue with Order, you will now be transferred to Chrissa for further assistance.\")\n",
    "    elif inquiry_number == 4:\n",
    "        print(\"You selected Design Services, you will now be transferred to Ramon for further assistance.\")\n",
    "    elif inquiry_number == 5:\n",
    "        print(\"You selected Others, you will now be transferred to Trinity for further assistance.\")\n"
   ]
  },
  {
   "cell_type": "code",
   "execution_count": null,
   "metadata": {},
   "outputs": [
    {
     "name": "stdout",
     "output_type": "stream",
     "text": [
      " For us to help you today, please read through and select a number from the listed categories below: \n",
      "1. Store Location and Hours\n",
      "2. Order Status\n",
      "3. Issue with Order\n",
      "4. Design Services\n",
      "5. Other\n",
      "You selected Design Services, you will now be transferred to Ramon for further assistance.\n"
     ]
    }
   ],
   "source": [
    "#inquiry_category()"
   ]
  },
  {
   "cell_type": "markdown",
   "id": "36f6b929",
   "metadata": {},
   "source": [
    "<span style= \"color: #87ceeb;\"> _Store Location and Hours_ </span>\n",
    "\n",
    "Tiny Space is located at 2300 Riverdale Lane, Boston, MA 02101. The store is open Monday–Saturday from 10 a.m. to 6 p.m.\n",
    "\n",
    "After providing a customer with the store's location and hours of operation, the bot should ask the customer May I help you with anything else?. If the customer needs additional help, the list of inquiry categories should display again for the customer. However, if the customer does not need any additional help, the bot should end the conversation with the phrase Thanks for contacting Tiny Space!. If the customer selects another inquiry category, the bot should continue the conversation with the prompt for the selected category.\n",
    "\n"
   ]
  },
  {
   "cell_type": "code",
   "execution_count": 145,
   "id": "8a2a6806",
   "metadata": {},
   "outputs": [],
   "source": [
    "def inquiry_category():\n",
    "\n",
    "    print(\"How would you like us to help you today?\\n\\nPlease, select a number from 1-5 for the following inquiries below: \")\n",
    "    print(\"1. Store Location and Hours\\n2. Order Status\\n3. Issue with Order\\n4. Design Services\\n5. Other\")\n",
    "\n",
    "    inquiry_number = int(input(\"From the inquiries listed above, please enter a number between 1-5: \"))\n",
    "\n",
    "    while inquiry_number not in range(1, 6):\n",
    "        print(\"\\n\\nPlease select a number between 1-5 that states why you are contacting us today.\")\n",
    "        inquiry_number = int(input(\"From the inquiries listed above, please enter a number between 1-5: \"))\n",
    "\n",
    "    if inquiry_number == 1:\n",
    "        print(\"\\nYou selected: Store Location and Hours.\\nTiny Space is located at 2300 Riverdale Lane, Boston, MA 02101.\\nThe store is open Monday–Saturday from 10 a.m. to 6 p.m.\\nMay I help you with anything else?\")\n",
    "\n",
    "        further_assistance = input(\"Yes or No: \").lower()\n",
    "        while further_assistance not in ['yes', 'no']:\n",
    "            print('\\n\\ninvalid entry, kindly type: yes or no')\n",
    "            further_assistance = input(\"Yes or No: \").lower()\n",
    "        if further_assistance == 'yes':\n",
    "            inquiry_category()\n",
    "        elif further_assistance == 'no':\n",
    "            print(\"\\n\\nThanks for contacting us today! Cheers!\")\n",
    "            \n",
    "    elif inquiry_number == 2:\n",
    "        print(\"\\nYou selected: Order Status. You will now be transferred to Eliot for further assistance.\")\n",
    "    elif inquiry_number == 3:\n",
    "        print(\"\\nYou selected: Issue with Order. You will now be transferred to Chrissa for further assistance.\")\n",
    "    elif inquiry_number == 4:\n",
    "        print(\"\\nYou selected: Design Services. You will now be transferred to Ramon for further assistance.\")\n",
    "    elif inquiry_number == 5:\n",
    "        print(\"\\nYou selected: Others. You will now be transferred to Trinity for further assistance.\")"
   ]
  },
  {
   "cell_type": "code",
   "execution_count": 146,
   "metadata": {},
   "outputs": [
    {
     "name": "stdout",
     "output_type": "stream",
     "text": [
      "How would you like us to help you today?\n",
      "\n",
      "Please, select a number from 1-5 for the following inquiries below: \n",
      "1. Store Location and Hours\n",
      "2. Order Status\n",
      "3. Issue with Order\n",
      "4. Design Services\n",
      "5. Other\n",
      "\n",
      "\n",
      "Please select a number between 1-5 that states why you are contacting us today.\n",
      "\n",
      "You selected: Store Location and Hours.\n",
      "Tiny Space is located at 2300 Riverdale Lane, Boston, MA 02101.\n",
      "The store is open Monday–Saturday from 10 a.m. to 6 p.m.\n",
      "May I help you with anything else?\n",
      "\n",
      "\n",
      "invalid entry, kindly type: yes or no\n",
      "How would you like us to help you today?\n",
      "\n",
      "Please, select a number from 1-5 for the following inquiries below: \n",
      "1. Store Location and Hours\n",
      "2. Order Status\n",
      "3. Issue with Order\n",
      "4. Design Services\n",
      "5. Other\n",
      "\n",
      "You selected: Store Location and Hours.\n",
      "Tiny Space is located at 2300 Riverdale Lane, Boston, MA 02101.\n",
      "The store is open Monday–Saturday from 10 a.m. to 6 p.m.\n",
      "May I help you with anything else?\n",
      "\n",
      "\n",
      "Thanks for contacting us today! Cheers!\n"
     ]
    }
   ],
   "source": [
    "inquiry_category()"
   ]
  },
  {
   "cell_type": "markdown",
   "id": "fbed2c52",
   "metadata": {},
   "source": [
    "<span style = \"color: #87ceeb;\"> _Status of Order_ </span>\n",
    "\n",
    "If a customer wants to know the status of their order, the bot should respond with the message Sure, I can help you with that. The bot should then collect the following information from the customer:\n",
    "\n",
    "Full name on the order\n",
    "Order number\n",
    "Once the information is collected from the customer, the bot should transfer the conversation to the assigned member of the Tiny Space team for assistance and follow up with the message \n",
    "Awesome! I'm checking the status of the order now."
   ]
  },
  {
   "cell_type": "code",
   "execution_count": 161,
   "id": "0d2aa0db",
   "metadata": {},
   "outputs": [],
   "source": [
    "def inquiry_category():\n",
    "\n",
    "    print(\"How would you like us to help you today?\\n\\nPlease, select a number from 1-5 for the following inquiries below: \")\n",
    "    print(\"1. Store Location and Hours\\n2. Order Status\\n3. Issue with Order\\n4. Design Services\\n5. Other\")\n",
    "\n",
    "    inquiry_number = int(input(\"From the inquiries listed above, please enter a number between 1-5: \"))\n",
    "\n",
    "    while inquiry_number not in range(1, 6):\n",
    "        print(\"\\n\\nPlease select a number between 1-5 that states why you are contacting us today.\")\n",
    "        inquiry_number = int(input(\"From the inquiries listed above, please enter a number between 1-5: \"))\n",
    "\n",
    "    if inquiry_number == 1:\n",
    "        print(\"\\nYou selected: Store Location and Hours.\\nTiny Space is located at 2300 Riverdale Lane, Boston, MA 02101.\\nThe store is open Monday–Saturday from 10 a.m. to 6 p.m.\\nMay I help you with anything else?\")\n",
    "\n",
    "        further_assistance = input(\"Yes or No: \").lower()\n",
    "        while further_assistance not in ['yes', 'no']:\n",
    "            print('\\n\\ninvalid entry, kindly type: yes or no')\n",
    "            further_assistance = input(\"Yes or No: \").lower()\n",
    "        if further_assistance == 'yes':\n",
    "            inquiry_category()\n",
    "        elif further_assistance == 'no':\n",
    "            print(\"\\n\\nThanks for contacting us today! Cheers!\")\n",
    "            \n",
    "    elif inquiry_number == 2:\n",
    "        print(\"\\nYou selected: Order Status. You will be transferred to Eliot for further assistance.\\n\\nHowever before we do, share the following details to help us locate your order:\\nFull name on the order\\nOrder number\")\n",
    "\n",
    "        full_name = input(\"What is your full name? \").strip().title()\n",
    "        order_number = input(\"What is your order number? \")\n",
    "\n",
    "        print(f\"\\n\\nAwesome! {full_name}, I'm checking the status of the order (id: {order_number}) now.\")\n",
    "\n",
    "    elif inquiry_number == 3:\n",
    "        print(\"\\nYou selected: Issue with Order. You will now be transferred to Chrissa for further assistance.\")\n",
    "    elif inquiry_number == 4:\n",
    "        print(\"\\nYou selected: Design Services. You will now be transferred to Ramon for further assistance.\")\n",
    "    elif inquiry_number == 5:\n",
    "        print(\"\\nYou selected: Others. You will now be transferred to Trinity for further assistance.\")"
   ]
  },
  {
   "cell_type": "code",
   "execution_count": 162,
   "id": "cf3aaa56",
   "metadata": {},
   "outputs": [
    {
     "name": "stdout",
     "output_type": "stream",
     "text": [
      "How would you like us to help you today?\n",
      "\n",
      "Please, select a number from 1-5 for the following inquiries below: \n",
      "1. Store Location and Hours\n",
      "2. Order Status\n",
      "3. Issue with Order\n",
      "4. Design Services\n",
      "5. Other\n",
      "\n",
      "You selected: Order Status. You will be transferred to Eliot for further assistance.\n",
      "\n",
      "However before we do, share the following details to help us locate your order:\n",
      "Full name on the order\n",
      "Order number\n",
      "\n",
      "\n",
      "Awesome! Teni        Olutade, I'm checking the status of the order (id: 2346) now.\n"
     ]
    }
   ],
   "source": [
    "inquiry_category()"
   ]
  },
  {
   "cell_type": "markdown",
   "id": "b64792eb",
   "metadata": {},
   "source": [
    "_The function doesn't remove spaces in between._"
   ]
  },
  {
   "cell_type": "code",
   "execution_count": 163,
   "metadata": {},
   "outputs": [],
   "source": [
    "def inquiry_category():\n",
    "\n",
    "    print(\"How would you like us to help you today?\\n\\nPlease, select a number from 1-5 for the following inquiries below: \")\n",
    "    print(\"1. Store Location and Hours\\n2. Order Status\\n3. Issue with Order\\n4. Design Services\\n5. Other\")\n",
    "\n",
    "    inquiry_number = int(input(\"From the inquiries listed above, please enter a number between 1-5: \"))\n",
    "\n",
    "    while inquiry_number not in range(1, 6):\n",
    "        print(\"\\n\\nPlease select a number between 1-5 that states why you are contacting us today.\")\n",
    "        inquiry_number = int(input(\"From the inquiries listed above, please enter a number between 1-5: \"))\n",
    "\n",
    "    if inquiry_number == 1:\n",
    "        print(\"\\nYou selected: Store Location and Hours.\\nTiny Space is located at 2300 Riverdale Lane, Boston, MA 02101.\\nThe store is open Monday–Saturday from 10 a.m. to 6 p.m.\\nMay I help you with anything else?\")\n",
    "\n",
    "        further_assistance = input(\"Yes or No: \").lower()\n",
    "        while further_assistance not in ['yes', 'no']:\n",
    "            print('\\n\\ninvalid entry, kindly type: yes or no')\n",
    "            further_assistance = input(\"Yes or No: \").lower()\n",
    "        if further_assistance == 'yes':\n",
    "            inquiry_category()\n",
    "        elif further_assistance == 'no':\n",
    "            print(\"\\n\\nThanks for contacting us today! Cheers!\")\n",
    "            \n",
    "    elif inquiry_number == 2:\n",
    "        print(\"\\nYou selected: Order Status. You will be transferred to Eliot for further assistance.\\n\\nHowever before we do, share the following details to help us locate your order:\\nFull name on the order\\nOrder number\")\n",
    "\n",
    "        full_name = input(\"What is your full name? \").strip().title().replace(\"  \", \"\")\n",
    "        order_number = input(\"What is your order number? \")\n",
    "\n",
    "        print(f\"\\n\\nAwesome! {full_name}, I'm checking the status of the order (id: {order_number}) now.\")\n",
    "\n",
    "    elif inquiry_number == 3:\n",
    "        print(\"\\nYou selected: Issue with Order. You will now be transferred to Chrissa for further assistance.\")\n",
    "    elif inquiry_number == 4:\n",
    "        print(\"\\nYou selected: Design Services. You will now be transferred to Ramon for further assistance.\")\n",
    "    elif inquiry_number == 5:\n",
    "        print(\"\\nYou selected: Others. You will now be transferred to Trinity for further assistance.\")"
   ]
  },
  {
   "cell_type": "code",
   "execution_count": null,
   "metadata": {},
   "outputs": [
    {
     "name": "stdout",
     "output_type": "stream",
     "text": [
      "How would you like us to help you today?\n",
      "\n",
      "Please, select a number from 1-5 for the following inquiries below: \n",
      "1. Store Location and Hours\n",
      "2. Order Status\n",
      "3. Issue with Order\n",
      "4. Design Services\n",
      "5. Other\n",
      "\n",
      "You selected: Order Status. You will be transferred to Eliot for further assistance.\n",
      "\n",
      "However before we do, share the following details to help us locate your order:\n",
      "Full name on the order\n",
      "Order number\n",
      "\n",
      "\n",
      "Awesome! Teni Olutade, I'm checking the status of the order (id: 2345) now.\n"
     ]
    }
   ],
   "source": [
    "#inquiry_category()"
   ]
  },
  {
   "cell_type": "markdown",
   "id": "76dcd190",
   "metadata": {},
   "source": [
    "<span style = \"color: #87ceeb;\"> _Issue with Order_ </span>\n",
    "\n",
    "If a customer has an issue with their order, the bot should respond with the message I'm sorry that you're experiencing issues with your order. The bot should then collect the following information from the customer:\n",
    "\n",
    "Full name on the order\n",
    "Order number\n",
    "Issue\n",
    "Once the information is collected from the customer, the bot should transfer the conversation to the assigned member of the Tiny Space team for assistance and follow up with the message Thanks for providing that information. I'm looking into this now."
   ]
  },
  {
   "cell_type": "code",
   "execution_count": 189,
   "metadata": {},
   "outputs": [],
   "source": [
    "def inquiry_category():\n",
    "\n",
    "    print(\"How would you like us to help you today?\\n\\nPlease, select a number from 1-5 for the following inquiries below: \")\n",
    "    print(\"1. Store Location and Hours\\n2. Order Status\\n3. Issue with Order\\n4. Design Services\\n5. Other\")\n",
    "\n",
    "    inquiry_number = int(input(\"From the inquiries listed above, please enter a number between 1-5: \"))\n",
    "\n",
    "    while inquiry_number not in range(1, 6):\n",
    "        print(\"\\n\\nPlease select a number between 1-5 that states why you are contacting us today.\")\n",
    "        inquiry_number = int(input(\"From the inquiries listed above, please enter a number between 1-5: \"))\n",
    "\n",
    "    if inquiry_number == 1:\n",
    "        print(\"\\nYou selected: Store Location and Hours.\\nTiny Space is located at 2300 Riverdale Lane, Boston, MA 02101.\\nThe store is open Monday–Saturday from 10 a.m. to 6 p.m.\\nMay I help you with anything else?\")\n",
    "\n",
    "        further_assistance = input(\"Yes or No: \").lower()\n",
    "        while further_assistance not in ['yes', 'no']:\n",
    "            print('\\n\\ninvalid entry, kindly type: yes or no')\n",
    "            further_assistance = input(\"Yes or No: \").lower()\n",
    "        if further_assistance == 'yes':\n",
    "            inquiry_category()\n",
    "        elif further_assistance == 'no':\n",
    "            print(\"\\n\\nThanks for contacting us today! Cheers!\")\n",
    "            \n",
    "    elif inquiry_number == 2:\n",
    "        print(\"\\nYou selected: Order Status. You will be transferred to Eliot for further assistance.\\n\\nHowever before we do, share the following details to help us locate your order:\\nFull name on the order\\nOrder number\")\n",
    "\n",
    "        full_name = input(\"What is your full name? \").strip().title().replace(\"  \", \"\")\n",
    "        order_number = input(\"What is your order number? \")\n",
    "\n",
    "        print(f\"\\n\\nAwesome! {full_name}, I'm checking the status of the order (id: {order_number}) now.\")\n",
    "\n",
    "    elif inquiry_number == 3:\n",
    "        print(\"I'm sorry that you're experiencing issues with your order\\n\\nTo help you, please answer the following:\")\n",
    "\n",
    "        order_full_name = input(\"What is full name registered with this order? \").title().strip()\n",
    "        order_number = input(\"What is your order number? \")\n",
    "        issue_description = input(\"Briefly describe the issue you're experiencing: \").title().strip()\n",
    "\n",
    "        print(f\"To confirm the details, your full name is '{order_full_name}', the order number is '{order_number}' and the issue is '{issue_description}'\\n\\nIs the information correct? \")\n",
    "        change_info = input(\"Type: Yes or No \").lower().strip()\n",
    "\n",
    "        while change_info == 'no':\n",
    "            print(\"Kindly re-enter your details\")\n",
    "\n",
    "            order_full_name = input(\"What is full name registered with this order? \").title().strip()\n",
    "            order_number = input(\"What is your order number? \")\n",
    "            issue_description = input(\"Briefly describe the issue you're experiencing: \").title().strip()\n",
    "\n",
    "            print(f\"To confirm the details, your full name is '{order_full_name}', the order number is '{order_number}' and the issue is '{issue_description}'\\n\\nIs the information correct? \")\n",
    "            change_info = input(\"Type: Yes or No \").lower().strip()\n",
    "        \n",
    "        while change_info not in ['yes', 'no']:\n",
    "            print(\"Please enter yes to update your details or no to connect you with an agent\")\n",
    "            print(f\"To confirm the details, your full name is '{order_full_name}', the order number is '{order_number}' and the issue is '{issue_description}'\\n\\nIs the information correct? \")\n",
    "            change_info = input(\"Type: Yes or No \").lower().strip()\n",
    "\n",
    "        if change_info == 'yes':\n",
    "            print(\"Thanks for providing your information.\\nYou'd now be connected with Chrissa for further assistance\")    \n",
    "                \n",
    "        \n",
    "    \n",
    "    elif inquiry_number == 4:\n",
    "        print(\"\\nYou selected: Design Services. You will now be transferred to Ramon for further assistance.\")\n",
    "    elif inquiry_number == 5:\n",
    "        print(\"\\nYou selected: Others. You will now be transferred to Trinity for further assistance.\")"
   ]
  },
  {
   "cell_type": "code",
   "execution_count": null,
   "id": "815bdbae",
   "metadata": {},
   "outputs": [
    {
     "name": "stdout",
     "output_type": "stream",
     "text": [
      "How would you like us to help you today?\n",
      "\n",
      "Please, select a number from 1-5 for the following inquiries below: \n",
      "1. Store Location and Hours\n",
      "2. Order Status\n",
      "3. Issue with Order\n",
      "4. Design Services\n",
      "5. Other\n",
      "I'm sorry that you're experiencing issues with your order\n",
      "\n",
      "To help you, please answer the following:\n",
      "To confirm the details, your full name is 'Kljhg', the order number is '9876' and the issue is 'Lkjhg'\n",
      "\n",
      "Is the information correct? \n",
      "Kindly re-enter your details\n",
      "To confirm the details, your full name is 'Kljhg', the order number is '09876' and the issue is 'Kljhg'\n",
      "\n",
      "Is the information correct? \n",
      "Please enter yes to update your details or no to connect you with an agent\n",
      "To confirm the details, your full name is 'Kljhg', the order number is '09876' and the issue is 'Kljhg'\n",
      "\n",
      "Is the information correct? \n",
      "Please enter yes to update your details or no to connect you with an agent\n",
      "To confirm the details, your full name is 'Kljhg', the order number is '09876' and the issue is 'Kljhg'\n",
      "\n",
      "Is the information correct? \n",
      "Please enter yes to update your details or no to connect you with an agent\n",
      "To confirm the details, your full name is 'Kljhg', the order number is '09876' and the issue is 'Kljhg'\n",
      "\n",
      "Is the information correct? \n",
      "Thanks for providing your information.\n",
      "You'd now be connected with Chrissa for further assistance\n"
     ]
    }
   ],
   "source": [
    "#inquiry_category()"
   ]
  },
  {
   "cell_type": "markdown",
   "id": "db616a93",
   "metadata": {},
   "source": [
    "<span style = \"color: #87ceeb;\"> _Design Services_ </span>\n",
    "\n",
    "If a customer requests Design Services, the bot should transfer the conversation to the assigned member of the Tiny Space team and respond with the message I can definitely help you out with your design questions! Tell me how I may be of assistance. The customer's response should be collected."
   ]
  },
  {
   "cell_type": "code",
   "execution_count": 190,
   "id": "6a7b1831",
   "metadata": {},
   "outputs": [],
   "source": [
    "def inquiry_category():\n",
    "\n",
    "    print(\"How would you like us to help you today?\\n\\nPlease, select a number from 1-5 for the following inquiries below: \")\n",
    "    print(\"1. Store Location and Hours\\n2. Order Status\\n3. Issue with Order\\n4. Design Services\\n5. Other\")\n",
    "\n",
    "    inquiry_number = int(input(\"From the inquiries listed above, please enter a number between 1-5: \"))\n",
    "\n",
    "    while inquiry_number not in range(1, 6):\n",
    "        print(\"\\n\\nPlease select a number between 1-5 that states why you are contacting us today.\")\n",
    "        inquiry_number = int(input(\"From the inquiries listed above, please enter a number between 1-5: \"))\n",
    "\n",
    "    if inquiry_number == 1:\n",
    "        print(\"\\nYou selected: Store Location and Hours.\\nTiny Space is located at 2300 Riverdale Lane, Boston, MA 02101.\\nThe store is open Monday–Saturday from 10 a.m. to 6 p.m.\\nMay I help you with anything else?\")\n",
    "\n",
    "        further_assistance = input(\"Yes or No: \").lower()\n",
    "        while further_assistance not in ['yes', 'no']:\n",
    "            print('\\n\\ninvalid entry, kindly type: yes or no')\n",
    "            further_assistance = input(\"Yes or No: \").lower()\n",
    "        if further_assistance == 'yes':\n",
    "            inquiry_category()\n",
    "        elif further_assistance == 'no':\n",
    "            print(\"\\n\\nThanks for contacting us today! Cheers!\")\n",
    "            \n",
    "    elif inquiry_number == 2:\n",
    "        print(\"\\nYou selected: Order Status. You will be transferred to Eliot for further assistance.\\n\\nHowever before we do, share the following details to help us locate your order:\\nFull name on the order\\nOrder number\")\n",
    "\n",
    "        full_name = input(\"What is your full name? \").strip().title().replace(\"  \", \"\")\n",
    "        order_number = input(\"What is your order number? \")\n",
    "\n",
    "        print(f\"\\n\\nAwesome! {full_name}, I'm checking the status of the order (id: {order_number}) now.\")\n",
    "\n",
    "    elif inquiry_number == 3:\n",
    "        print(\"I'm sorry that you're experiencing issues with your order\\n\\nTo help you, please answer the following:\")\n",
    "\n",
    "        order_full_name = input(\"What is full name registered with this order? \").title().strip()\n",
    "        order_number = input(\"What is your order number? \")\n",
    "        issue_description = input(\"Briefly describe the issue you're experiencing: \").title().strip()\n",
    "\n",
    "        print(f\"To confirm the details, your full name is '{order_full_name}', the order number is '{order_number}' and the issue is '{issue_description}'\\n\\nIs the information correct? \")\n",
    "        change_info = input(\"Type: Yes or No \").lower().strip()\n",
    "\n",
    "        while change_info == 'no':\n",
    "            print(\"Kindly re-enter your details\")\n",
    "\n",
    "            order_full_name = input(\"What is full name registered with this order? \").title().strip()\n",
    "            order_number = input(\"What is your order number? \")\n",
    "            issue_description = input(\"Briefly describe the issue you're experiencing: \").title().strip()\n",
    "\n",
    "            print(f\"To confirm the details, your full name is '{order_full_name}', the order number is '{order_number}' and the issue is '{issue_description}'\\n\\nIs the information correct? \")\n",
    "            change_info = input(\"Type: Yes or No \").lower().strip()\n",
    "        \n",
    "        while change_info not in ['yes', 'no']:\n",
    "            print(\"Please enter yes to update your details or no to connect you with an agent\")\n",
    "            print(f\"To confirm the details, your full name is '{order_full_name}', the order number is '{order_number}' and the issue is '{issue_description}'\\n\\nIs the information correct? \")\n",
    "            change_info = input(\"Type: Yes or No \").lower().strip()\n",
    "\n",
    "        if change_info == 'yes':\n",
    "            print(\"Thanks for providing your information.\\nYou'd now be connected with Chrissa for further assistance\")    \n",
    "                \n",
    "        \n",
    "    elif inquiry_number == 4:\n",
    "        print(\"\\nI can definitely help you out with your design questions! Tell me how I may be of assistance: \")\n",
    "        design_inquiry = input(\"State how we may be of assistance: \")\n",
    "        print(\"Thank you! Your inquiry has been collected and we'd get back to you soon.\")\n",
    "    \n",
    "    \n",
    "    \n",
    "    elif inquiry_number == 5:\n",
    "        print(\"\\nYou selected: Others. You will now be transferred to Trinity for further assistance.\")"
   ]
  },
  {
   "cell_type": "code",
   "execution_count": null,
   "metadata": {},
   "outputs": [
    {
     "name": "stdout",
     "output_type": "stream",
     "text": [
      "How would you like us to help you today?\n",
      "\n",
      "Please, select a number from 1-5 for the following inquiries below: \n",
      "1. Store Location and Hours\n",
      "2. Order Status\n",
      "3. Issue with Order\n",
      "4. Design Services\n",
      "5. Other\n",
      "\n",
      "I can definitely help you out with your design questions! Tell me how I may be of assistance: \n",
      "Thank you! Your inquiry has been collected and we'd get back to you soon.\n"
     ]
    }
   ],
   "source": [
    "#inquiry_category()"
   ]
  },
  {
   "cell_type": "markdown",
   "id": "18e809a9",
   "metadata": {},
   "source": [
    "<span style = \"color: #87ceeb;\"> _Other_ </span>\n",
    "\n",
    "If a customer selects Other, the bot should transfer the conversation to the assigned member of the Tiny Space team and respond with the message No problem, please describe to me how I may be of assistance. The customer's response should be collected."
   ]
  },
  {
   "cell_type": "code",
   "execution_count": 199,
   "metadata": {},
   "outputs": [],
   "source": [
    "def inquiry_category():\n",
    "\n",
    "    print(\"How would you like us to help you today?\\n\\nPlease, select a number from 1-5 for the following inquiries below: \")\n",
    "    print(\"1. Store Location and Hours\\n2. Order Status\\n3. Issue with Order\\n4. Design Services\\n5. Other\")\n",
    "\n",
    "    inquiry_number = int(input(\"From the inquiries listed above, please enter a number between 1-5: \"))\n",
    "\n",
    "    while inquiry_number not in range(1, 6):\n",
    "        print(\"\\n\\nPlease select a number between 1-5 that states why you are contacting us today.\")\n",
    "        inquiry_number = int(input(\"From the inquiries listed above, please enter a number between 1-5: \"))\n",
    "\n",
    "    if inquiry_number == 1:\n",
    "        print(\"\\nYou selected: Store Location and Hours.\\nTiny Space is located at 2300 Riverdale Lane, Boston, MA 02101.\\nThe store is open Monday–Saturday from 10 a.m. to 6 p.m.\\nMay I help you with anything else?\")\n",
    "\n",
    "        further_assistance = input(\"Yes or No: \").lower()\n",
    "        while further_assistance not in ['yes', 'no']:\n",
    "            print('\\n\\ninvalid entry, kindly type: yes or no')\n",
    "            further_assistance = input(\"Yes or No: \").lower()\n",
    "        if further_assistance == 'yes':\n",
    "            inquiry_category()\n",
    "        elif further_assistance == 'no':\n",
    "            print(\"\\n\\nThanks for contacting us today! Cheers!\")\n",
    "            \n",
    "    elif inquiry_number == 2:\n",
    "        print(\"\\nYou selected: Order Status. You will be transferred to Eliot for further assistance.\\n\\nHowever before we do, share the following details to help us locate your order:\\nFull name on the order\\nOrder number\")\n",
    "\n",
    "        full_name = input(\"What is your full name? \").strip().title().replace(\"  \", \"\")\n",
    "        order_number = input(\"What is your order number? \")\n",
    "\n",
    "        print(f\"\\n\\nAwesome! {full_name}, I'm checking the status of the order (id: {order_number}) now.\")\n",
    "\n",
    "    elif inquiry_number == 3:\n",
    "        print(\"I'm sorry that you're experiencing issues with your order\\n\\nTo help you, please answer the following:\")\n",
    "\n",
    "        order_full_name = input(\"What is full name registered with this order? \").title().strip()\n",
    "        order_number = input(\"What is your order number? \")\n",
    "        issue_description = input(\"Briefly describe the issue you're experiencing: \").title().strip()\n",
    "\n",
    "        print(f\"To confirm the details, your full name is '{order_full_name}', the order number is '{order_number}' and the issue is '{issue_description}'\\n\\nIs the information correct? \")\n",
    "        change_info = input(\"Type: Yes or No \").lower().strip()\n",
    "\n",
    "        while change_info == 'no':\n",
    "            print(\"Kindly re-enter your details\")\n",
    "\n",
    "            order_full_name = input(\"What is full name registered with this order? \").title().strip()\n",
    "            order_number = input(\"What is your order number? \")\n",
    "            issue_description = input(\"Briefly describe the issue you're experiencing: \").title().strip()\n",
    "\n",
    "            print(f\"To confirm the details, your full name is '{order_full_name}', the order number is '{order_number}' and the issue is '{issue_description}'\\n\\nIs the information correct? \")\n",
    "            change_info = input(\"Type: Yes or No \").lower().strip()\n",
    "        \n",
    "        while change_info not in ['yes', 'no']:\n",
    "            print(\"Please enter yes to update your details or no to connect you with an agent\")\n",
    "            print(f\"To confirm the details, your full name is '{order_full_name}', the order number is '{order_number}' and the issue is '{issue_description}'\\n\\nIs the information correct? \")\n",
    "            change_info = input(\"Type: Yes or No \").lower().strip()\n",
    "\n",
    "        if change_info == 'yes':\n",
    "            print(f\"Chrissa is now on this chat. Thanks {order_full_name} for providing your information.\\nI'm looking into this now.\")    \n",
    "                \n",
    "        \n",
    "    elif inquiry_number == 4:\n",
    "        print(\"\\nRamon is now on the chat.\\n\\nI can definitely help you out with your design questions! Tell me how I may be of assistance: \")\n",
    "        design_inquiry = input(\"State how we may be of assistance: \")\n",
    "        print(\"\\nThank you! Your inquiry has been collected and we'd get back to you soon.\")\n",
    "    \n",
    "    \n",
    "    elif inquiry_number == 5:\n",
    "        print(\"\\nTrinity is now on the chat.\\n\\nPlease describe to me how I may be of assistane: \")\n",
    "\n",
    "        other_inquiry = input(\"State how we may be of assistance: \")\n",
    "        \n",
    "        print(\"\\nThank you! Your inquiry has been collected and we'd get back to you soon.\")\n",
    "     \n",
    "\n"
   ]
  },
  {
   "cell_type": "code",
   "execution_count": 200,
   "id": "3244380a",
   "metadata": {},
   "outputs": [
    {
     "name": "stdout",
     "output_type": "stream",
     "text": [
      "How would you like us to help you today?\n",
      "\n",
      "Please, select a number from 1-5 for the following inquiries below: \n",
      "1. Store Location and Hours\n",
      "2. Order Status\n",
      "3. Issue with Order\n",
      "4. Design Services\n",
      "5. Other\n",
      "\n",
      "Ramon is now on the chat.\n",
      "\n",
      "I can definitely help you out with your design questions! Tell me how I may be of assistance: \n",
      "\n",
      "Thank you! Your inquiry has been collected and we'd get back to you soon.\n"
     ]
    }
   ],
   "source": [
    "inquiry_category()"
   ]
  },
  {
   "cell_type": "code",
   "execution_count": null,
   "id": "7bb8fc8f",
   "metadata": {},
   "outputs": [],
   "source": []
  }
 ],
 "metadata": {
  "kernelspec": {
   "display_name": "ML_DM",
   "language": "python",
   "name": "python3"
  },
  "language_info": {
   "codemirror_mode": {
    "name": "ipython",
    "version": 3
   },
   "file_extension": ".py",
   "mimetype": "text/x-python",
   "name": "python",
   "nbconvert_exporter": "python",
   "pygments_lexer": "ipython3",
   "version": "3.11.13"
  }
 },
 "nbformat": 4,
 "nbformat_minor": 5
}
