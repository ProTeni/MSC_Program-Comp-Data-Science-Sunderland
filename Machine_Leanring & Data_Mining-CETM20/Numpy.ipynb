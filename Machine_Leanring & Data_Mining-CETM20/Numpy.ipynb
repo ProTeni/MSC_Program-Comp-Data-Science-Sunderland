{
 "cells": [
  {
   "cell_type": "markdown",
   "id": "3f7ca476",
   "metadata": {},
   "source": [
    "<span style = \"color: #82C8E5;\"> _Installed Numpy in my ML_DM environment; the env with the only python version of 3.10_ </span>"
   ]
  },
  {
   "cell_type": "code",
   "execution_count": 2,
   "id": "0c07a508",
   "metadata": {},
   "outputs": [],
   "source": [
    "import numpy as np"
   ]
  },
  {
   "cell_type": "markdown",
   "id": "ba780310",
   "metadata": {},
   "source": [
    "- Installing numpy via pip, Create a basic 1-D array, Index elements of an array, Use functions np.zeros(), np.ones(), np.empty() to initialise some basic arrays,Shape and Size of numpy arrays, ndim,size, shape, Array reshaping,\n",
    " Basic Array Operations, Broadcasting\n",
    "Working with Mathematical Formulas"
   ]
  },
  {
   "cell_type": "code",
   "execution_count": 3,
   "id": "7e7a181d",
   "metadata": {},
   "outputs": [
    {
     "data": {
      "text/plain": [
       "array([1, 2, 3, 4, 5, 6, 7, 8])"
      ]
     },
     "execution_count": 3,
     "metadata": {},
     "output_type": "execute_result"
    }
   ],
   "source": [
    "# An array is like an arbitrary store for storinga nd retrieving data\n",
    "\n",
    "np.array([1,2,3,4,5,6,7,8])"
   ]
  },
  {
   "cell_type": "code",
   "execution_count": 4,
   "id": "a2592f37",
   "metadata": {},
   "outputs": [
    {
     "data": {
      "text/plain": [
       "[1, 2, 3, 4, 5, 6, 7, 8]"
      ]
     },
     "execution_count": 4,
     "metadata": {},
     "output_type": "execute_result"
    }
   ],
   "source": [
    "[1,2,3,4,5,6,7,8]"
   ]
  },
  {
   "cell_type": "markdown",
   "id": "5adc8f97",
   "metadata": {},
   "source": [
    "From my resarech and understanding, the difference between a Python and Numpy array:\n",
    "\n",
    "- I understand that Numpy is fatser in its output poperation than a python mathematical list\n",
    "- Numpy allows for easier mathaematical operation per item in the array using slicing- where for python same would have top be done using for loop\n",
    "- Numpy works more effiiently on vectorization- which will support the basis of Neural Network\n",
    "- Numpy arrays can be access with ___Indexing___  a[1], ___slicing___ [2:3], [2:6,2],[:8,2], [::-1] (reverse) ,and ___Iterating___ _{for i in a: print(i**3/2)}_ , ***where Python solely relies on iteration***\n",
    "- Numpy is faster in its output than Python"
   ]
  },
  {
   "cell_type": "code",
   "execution_count": null,
   "id": "71f30741",
   "metadata": {},
   "outputs": [],
   "source": []
  }
 ],
 "metadata": {
  "kernelspec": {
   "display_name": "ML_DM",
   "language": "python",
   "name": "python3"
  },
  "language_info": {
   "codemirror_mode": {
    "name": "ipython",
    "version": 3
   },
   "file_extension": ".py",
   "mimetype": "text/x-python",
   "name": "python",
   "nbconvert_exporter": "python",
   "pygments_lexer": "ipython3",
   "version": "3.11.13"
  }
 },
 "nbformat": 4,
 "nbformat_minor": 5
}
