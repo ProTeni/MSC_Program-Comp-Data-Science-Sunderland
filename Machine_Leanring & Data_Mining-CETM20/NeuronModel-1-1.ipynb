{
 "cells": [
  {
   "cell_type": "markdown",
   "metadata": {},
   "source": [
    "# Week 1: Neurons (Biological + MCP Neuron + Python)\n",
    "\n",
    "## MCP Neuron\n",
    "\n",
    "We can define the MCP Neuron as below:\n",
    "\n",
    "$$x = [x_{1}, x_{2}, \\dots, x_{n}]; x_{i} \\in \\{0,1\\}$$\n",
    "$$w = [w_{1}, w_{2}, \\dots, w_{n}]; w_{i} \\in \\{-1,0,1\\}$$\n",
    "\n",
    "$$\\hat{y} = x \\cdot w \\geq \\theta$$\n",
    "\n",
    "Where we use a weight of 1 as *excitatory* and a weight of -1 as an *inhibitory* neural connection. Our inputs are either, 0, or 1 (binary)."
   ]
  },
  {
   "cell_type": "markdown",
   "metadata": {},
   "source": [
    "### Installing pre-requisite external Libraries: Numpy\n",
    "Jupyter notebooks allow us to use magic commands\n",
    "    `pip install numpy`\n",
    "From a command prompt, or we can execute it here using %."
   ]
  },
  {
   "cell_type": "code",
   "execution_count": null,
   "metadata": {},
   "outputs": [],
   "source": [
    "%pip install numpy"
   ]
  },
  {
   "cell_type": "code",
   "execution_count": null,
   "metadata": {},
   "outputs": [],
   "source": [
    "import numpy as np\n",
    "# Imports go at the top of our solution files\n",
    "\n",
    "# Neuron Model\n",
    "# Define some inputs\n",
    "x = np.array([ 1, 0 ])"
   ]
  },
  {
   "cell_type": "markdown",
   "metadata": {},
   "source": [
    "### OR Function"
   ]
  },
  {
   "cell_type": "code",
   "execution_count": null,
   "metadata": {},
   "outputs": [],
   "source": [
    "# OR function\n",
    "# If either input is 1, the output is 1.\n",
    "\n",
    "w = np.array([ 1, 1 ]) # Listen to both input\n",
    "neuron_output = np.dot( x, w )\n",
    "activation_threshold = 1\n",
    "print(f\"OR {x}: {neuron_output >= activation_threshold}\")"
   ]
  },
  {
   "cell_type": "markdown",
   "metadata": {},
   "source": [
    "### AND Function"
   ]
  },
  {
   "cell_type": "code",
   "execution_count": null,
   "metadata": {},
   "outputs": [],
   "source": [
    "# AND function\n",
    "# Only output 1 if both inputs are 1\n",
    "\n",
    "w = np.array([ 1, 1 ]) # Listen to both input\n",
    "neuron_output = np.dot( x, w )\n",
    "activation_threshold = 2 # Both need to be high.\n",
    "print(f\"AND {x}: {neuron_output >= activation_threshold}\")"
   ]
  },
  {
   "cell_type": "markdown",
   "metadata": {},
   "source": [
    "### NOR Function"
   ]
  },
  {
   "cell_type": "code",
   "execution_count": null,
   "metadata": {},
   "outputs": [],
   "source": [
    "# NOR \n",
    "# Only activate when both inputs are 0.\n",
    "\n",
    "w = np.array([ -1, -1 ]) # Invert the inputs.\n",
    "neuron_output = np.dot( x, w )\n",
    "activation_threshold = 0\n",
    "print(f\"NOR {x}: {neuron_output >= activation_threshold}\")"
   ]
  },
  {
   "cell_type": "markdown",
   "metadata": {},
   "source": [
    "### Applied Example - Should I eat that?\n",
    "Image we are a bird, and wondering what qualities make an object safe to eat.\n",
    "Below we have a few types of object, whether they are purple, round, and bouncy. Depending on this, we should eat this item.\n",
    "\n",
    "| Object | Purple | Round | Bouncy | Eat? |\n",
    "| --- | --- | --- | --- | --- |\n",
    "| Blueberry | Yes | Yes | No | Yes |\n",
    "| Golf Ball | No | Yes | Yes | No |\n",
    "| Violet | Yes | No | No | No |\n",
    "| Hot Dog | No | No | No | No |\n",
    "\n",
    "At the moment, this is in a Yes/No format, which isn't any use. We can only do arithmetic with numbers. Let's represent them that way.\n",
    "\n",
    "Numerically:\n",
    "\n",
    "| Object | Purple | Round | Bouncy | Eat? |\n",
    "| --- | --- | --- | --- | --- |\n",
    "| Blueberry | 1 | 1 | 0 | 1 |\n",
    "| Golf Ball | 0 | 1 | 1 | 0 |\n",
    "| Violet | 1 | 0 | 0 | 0 |\n",
    "| Hot Dog | 0 | 0 | 0 | 0 |\n",
    "\n",
    "We should separate out our inputs, from the target we wish to output. In this scenario, the decision to 'eat' should be the output of our neuronal model.\n",
    "\n",
    "Input:\n",
    "\n",
    "|  Purple | Round | Bouncy |\n",
    "| --- | --- | --- |\n",
    "| 1 | 1 | 0 |\n",
    "| 0 | 1 | 1 |\n",
    "| 1 | 0 | 0 |\n",
    "| 0 | 0 | 0 |\n",
    "\n",
    "Target:\n",
    "\n",
    "| Eat |\n",
    "| --- |\n",
    "| 1 | \n",
    "| 0 |\n",
    "| 0 |\n",
    "| 0 |\n",
    "\n"
   ]
  },
  {
   "cell_type": "markdown",
   "metadata": {},
   "source": [
    "#### Experiment\n",
    "Below you may see some familiar code. This is exactly the same as what we have been doing thus far, except our input and weight vectors have 3 components instead of 2.\n",
    "These correspond to our 'features' data (columns). Purple, Round, and Bouncy, in that order. Order here is very important.\n",
    "\n",
    "You should try changing the inputs. E.g `[1, 1, 1]` would be a Purple, Round, and Bouncy object. From our original table, we don't have an object which has all three of these properties.\n",
    "`[1, 1, 0]` would be Purple, Round but NOT Bouncy. This is a blueberry. We should eat blueberries.\n",
    "\n",
    "At the moment, our weight vector has all 0s. Our neuron isn't listening to any of our inputs.\n",
    "\n",
    "Try changing these values."
   ]
  },
  {
   "cell_type": "code",
   "execution_count": null,
   "metadata": {},
   "outputs": [],
   "source": [
    "x = np.array([1, 1, 1]) # Purple, Round, Bouncy.\n",
    "\n",
    "# TODO: Populate these appropriately\n",
    "weights_w = np.array([0, 0, 0])\n",
    "threshold = 0\n",
    "should_eat_neuron_output = np.dot(x, weights_w)\n",
    "print(int(should_eat_neuron_output >= threshold))\n"
   ]
  },
  {
   "cell_type": "markdown",
   "metadata": {},
   "source": [
    "Below we have some code which will go through all possible permutations of our inputs, ranging from `[0,0,0]` to `[1,1,1]`.\n",
    "Using the Object table we defiend above, can you figure out which object 'features' need to be listened to produce the correct output? Secondly, what would the threshold need to be for this?"
   ]
  },
  {
   "cell_type": "code",
   "execution_count": null,
   "metadata": {},
   "outputs": [],
   "source": [
    "\n",
    "all_inputs_to_test = [\n",
    "    np.array([0, 0, 0]),\n",
    "    np.array([0, 0, 1]),\n",
    "    np.array([0, 1, 0]),\n",
    "    np.array([1, 0, 0]),\n",
    "    np.array([1, 1, 0]),\n",
    "    np.array([0, 1, 1]),\n",
    "    np.array([1, 1, 1]),\n",
    "]\n",
    "\n",
    "weights_w = np.array([0, 0, 0])\n",
    "threshold = 0\n",
    "for x in all_inputs_to_test:\n",
    "    should_eat_neuron_output = np.dot(x, weights_w)\n",
    "    print(f\"Input: {x}, Raw Output: {should_eat_neuron_output}\\t Fire: {int(should_eat_neuron_output >= threshold)}\")\n"
   ]
  },
  {
   "cell_type": "markdown",
   "metadata": {},
   "source": [
    "## Perceptron (Weights + Bias w/ Activation Function)\n",
    "\n",
    "We can model the bias of a perceptron; the push towards (or away) from a given threshold. We are no longer constrained by the binary inputs of the MCP Neuron, we can now use any Real for the inputs; likewise, for our weights.\n",
    "\n",
    "E.g `x = [-1.4, 3.7, 1.0]`, `w = [5, 1.2, 2.4, 3.6]`\n",
    "\n",
    "We can therefore expand our Neuron Model definition thus:\n",
    "$$x = [x_{1}, x_{2}, \\dots, x_{n}]; x_{i} \\in \\mathbb{R}$$\n",
    "$$w = [w_{1}, w_{2}, \\dots, w_{n}]; w_{i} \\in \\mathbb{R}$$\n",
    "\n",
    "$$\\hat{y} = x \\cdot w + b \\geq \\theta$$\n",
    "\n",
    "By the definition of a perceptron we also have an *activation function*; our final definition is thus:\n",
    "$$\\hat{y} = f(x \\cdot w + b)$$\n",
    "\n",
    "\\begin{equation*}\n",
    "f(x) = \\left\\{\n",
    "        \\begin{array}{ll}\n",
    "            1 & \\quad x \\geq \\theta \\\\\n",
    "            0 & \\quad otherwise\n",
    "        \\end{array}\n",
    "    \\right.\n",
    "\\end{equation*}\n",
    "\n",
    "This is a fanciful way of saying that the neuron will fire if the weighted inputs, plus the bias exceed our activation threshold, otherwise it will stay dormant.\n",
    "In reality, we can change this function `f(x)`, but for now we will keep it simple."
   ]
  },
  {
   "cell_type": "code",
   "execution_count": null,
   "metadata": {},
   "outputs": [],
   "source": [
    "# Neuron Model\n",
    "# Define some inputs\n",
    "x = np.array([ 2.3, 1.0, 0.6 ])\n",
    "\n",
    "# Our inputs to the model would be 2.3, 1.0, and 0.6.\n",
    "print(x)\n",
    "\n",
    "\n",
    "bias = 0.5\n",
    "w = np.array([ -0.4, 0.5, 0.3 ])\n",
    "neuron_output = np.dot( x, w ) + bias\n",
    "activation_thresh = 1\n",
    "print(f\"Neuron Output: {neuron_output}; Activated:\\t{neuron_output >= activation_thresh}\")"
   ]
  },
  {
   "cell_type": "markdown",
   "metadata": {},
   "source": [
    "### Modifying the Bias\n",
    "Currently our Neuron output is 0.26. This is below our activation threshold, and therefore we don't fire.\n",
    "Change the bias amount so that the neuron will fire."
   ]
  },
  {
   "cell_type": "code",
   "execution_count": null,
   "metadata": {},
   "outputs": [],
   "source": [
    "# TODO: Change the Bias to make the function activate.\n",
    "bias = 0.5\n",
    "\n",
    "# Recalculate Neuron Output.\n",
    "neuron_output = np.dot( x, w ) + bias\n",
    "print(f\"Neuron Output high bias: {neuron_output}; Activated:\\t{neuron_output >= activation_thresh}\")"
   ]
  },
  {
   "cell_type": "markdown",
   "metadata": {},
   "source": [
    "Now we have modified our bias, let's see what happens to the behaviour of our Neuron. Let's put all our inputs to 0, and see the activation."
   ]
  },
  {
   "cell_type": "code",
   "execution_count": null,
   "metadata": {},
   "outputs": [],
   "source": [
    "# TODO: What happens if we just remove all inputs?\n",
    "x_blank_inputs = np.array([ 0, 0, 0]) # No inputs activated.\n",
    "\n",
    "neuron_output = np.dot( x_blank_inputs, w ) + bias\n",
    "print(f\"Neuron Output without inputs: {neuron_output}; Activated:\\t{neuron_output >= activation_thresh}\")\n"
   ]
  },
  {
   "cell_type": "markdown",
   "metadata": {},
   "source": [
    "The Neuron is now ALWAYS ON! As our weights vector is `[ -0.4, 0.5, 0.3 ]`, only a sufficiently strong $x_{1}$ can turn it off again.\n",
    "\n",
    "Tweak the inputs to the model to cause the neuron to turn off again."
   ]
  },
  {
   "cell_type": "code",
   "execution_count": null,
   "metadata": {},
   "outputs": [],
   "source": [
    "# TODO: Change the x input values (leave bias alone) to make the Neuron deactivate.\n",
    "x_tweaked_inputs = np.array([3.2, 0, 0])\n",
    "neuron_output = np.dot( x_tweaked_inputs, w ) + bias\n",
    "print(f\"Neuron Output gamed inputs: {neuron_output}; Activated:\\t{neuron_output >= activation_thresh}\")\n"
   ]
  },
  {
   "cell_type": "code",
   "execution_count": null,
   "metadata": {},
   "outputs": [],
   "source": []
  }
 ],
 "metadata": {
  "interpreter": {
   "hash": "e7370f93d1d0cde622a1f8e1c04877d8463912d04d973331ad4851f04de6915a"
  },
  "kernelspec": {
   "display_name": "Python 3.10.1 64-bit",
   "language": "python",
   "name": "python3"
  },
  "language_info": {
   "codemirror_mode": {
    "name": "ipython",
    "version": 3
   },
   "file_extension": ".py",
   "mimetype": "text/x-python",
   "name": "python",
   "nbconvert_exporter": "python",
   "pygments_lexer": "ipython3",
   "version": "3.9.10"
  },
  "orig_nbformat": 4
 },
 "nbformat": 4,
 "nbformat_minor": 2
}
